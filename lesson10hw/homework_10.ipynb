{
 "cells": [
  {
   "cell_type": "markdown",
   "id": "7c0e045e",
   "metadata": {},
   "source": [
    "## Практическое задание №10 по теме \"Ряды\""
   ]
  },
  {
   "cell_type": "markdown",
   "id": "ac3d733f",
   "metadata": {},
   "source": [
    "__1.__ Исследовать сходимость ряда. \n",
    "\n",
    "\n",
    "### $$\\frac{1}{2\\sqrt2}+\\frac{1}{3\\sqrt3}+\\,...\\,+\\frac{1}{(n+1)\\sqrt{n+1}}+\\,...\\,=\\sum\\limits_{n=1}^{+\\infty}\\frac{1}{(n+1)\\sqrt{n+1}}$$\n",
    "\n",
    "(*) Двумя различными признаками."
   ]
  },
  {
   "cell_type": "markdown",
   "id": "1c82e419",
   "metadata": {},
   "source": [
    "**Решение**"
   ]
  },
  {
   "cell_type": "markdown",
   "id": "de00720b",
   "metadata": {},
   "source": [
    "Проверим\n",
    "$$\\lim_{n\\to +\\infty}a_{n}=0$$\n",
    "\n",
    "$$\\lim_{n\\to +\\infty}\\frac{1}{(n+1)\\sqrt{n+1}} = $$\n",
    "\n",
    "Необходимое условие выполнено, ряд знакопостоянный."
   ]
  },
  {
   "cell_type": "markdown",
   "id": "c60c66c9",
   "metadata": {},
   "source": [
    "◆ *Используем \"Второй признак сравнения\"*\n",
    "\n",
    "$$\\frac{1}{2\\sqrt2}+\\frac{1}{3\\sqrt3}+\\,...\\,+\\frac{1}{(n+1)\\sqrt{n+1}}+\\,...\\,\\,\\,\\,\\,\\,\\sim\\,\\,\\,\\,\\,\\,O\\Bigr(\\frac{1}{n^\\frac{3}{2}}\\Bigl)$$\n",
    "\n",
    "т.к. степень равна $1.5>1$, значит ряд сходится."
   ]
  },
  {
   "cell_type": "markdown",
   "id": "9adf73ca",
   "metadata": {},
   "source": [
    "◆ *Используем \"Признак д’Аламбера\"*\n",
    "\n",
    "$$\\lim_{n\\to +\\infty}\\frac{a_{n+1}}{a_{n}} = \\lim_{n\\to +\\infty}\\frac{(n+1)\\sqrt{n+1}}{(n+2)\\sqrt{n+2}} = \\lim_{n\\to +\\infty} \\frac{n\\sqrt{n}\\Bigl(1+\\frac{1}{n}\\Bigr)\\sqrt{1 + \\frac{1}{n}}}{n\\sqrt{n}\\Bigl(1+\\frac{2}{n}\\Bigr)\\sqrt{1 + \\frac{2}{n}}} = 1$$\n",
    "\n",
    "т.к. предел равен $1=1$, то в данном случае признак д’Аламбера не работает."
   ]
  },
  {
   "cell_type": "markdown",
   "id": "6af48f5b",
   "metadata": {},
   "source": [
    "◆ *Используем \"Радикальный признак Коши\"*\n",
    "\n",
    "$$\\lim_{n\\to +\\infty}\\sqrt[n]{a_{n}} = \\lim_{n\\to +\\infty}\\sqrt[n]{\\frac{1}{(n+1)\\sqrt{n+1}}} = 1  $$\n",
    "\n",
    "т.к. предел равен $1=1$, то в данном случае радикальный признак Коши не работает."
   ]
  },
  {
   "cell_type": "markdown",
   "id": "506498ea",
   "metadata": {},
   "source": [
    "◆ *Используем \"Интегральный признак Коши\"*\n",
    "\n",
    "$$\\int\\limits_{1}^{+\\infty}a_{x}\\,dx = \\int\\limits_{1}^{+\\infty}\\frac{dx}{(x+1)\\sqrt{x+1}} = \\sqrt{2}$$\n",
    "\n",
    "Интеграл посчитан, соответственно ряд сходится."
   ]
  },
  {
   "cell_type": "code",
   "execution_count": 1,
   "id": "8a432884",
   "metadata": {},
   "outputs": [
    {
     "data": {
      "image/png": "[encoded data removed]",
      "text/latex": [
       "$\\displaystyle \\frac{1}{\\left(x + 1\\right)^{\\frac{3}{2}}}$"
      ],
      "text/plain": [
       "    1     \n",
       "──────────\n",
       "       3/2\n",
       "(x + 1)   "
      ]
     },
     "execution_count": 1,
     "metadata": {},
     "output_type": "execute_result"
    }
   ],
   "source": [
    "import warnings\n",
    "warnings.filterwarnings(\"ignore\")\n",
    "\n",
    "from sympy import *\n",
    "init_printing()\n",
    "x = Symbol('x')\n",
    "f = 1 / (x + 1) / sqrt(x + 1)\n",
    "f"
   ]
  },
  {
   "cell_type": "code",
   "execution_count": 2,
   "id": "2cadea72",
   "metadata": {},
   "outputs": [
    {
     "data": {
      "image/png": "[encoded data removed]",
      "text/latex": [
       "$\\displaystyle \\sqrt{2}$"
      ],
      "text/plain": [
       "√2"
      ]
     },
     "execution_count": 2,
     "metadata": {},
     "output_type": "execute_result"
    }
   ],
   "source": [
    "integrate(f, (x, 1, +oo))"
   ]
  },
  {
   "cell_type": "markdown",
   "id": "45dd5812",
   "metadata": {},
   "source": [
    "◆ *Используем \"Признак Раабе\"*\n",
    "\n",
    "$$\\lim_{n\\to +\\infty}n\\Bigr(\\frac{a_{n}}{a_{n+1}}-1\\Bigl)= \\frac{3}{2}$$\n",
    "\n",
    "т.к. предел равен $\\frac{3}{2}>1$, то ряд сходится."
   ]
  },
  {
   "cell_type": "code",
   "execution_count": 3,
   "id": "5a2c284d",
   "metadata": {
    "scrolled": true
   },
   "outputs": [
    {
     "name": "stdout",
     "output_type": "stream",
     "text": [
      "1.4966578710273026\n",
      "q = 1.5\n"
     ]
    }
   ],
   "source": [
    "import numpy as np\n",
    "\n",
    "acc = 0.00001\n",
    "n = 2\n",
    "old = 0\n",
    "while True:\n",
    "    res = n*((n+2)*np.sqrt(n+2)/((n+1)*np.sqrt(n+1)) - 1)\n",
    "    if abs(res-old)<acc:\n",
    "        break\n",
    "    old = res\n",
    "    n+=1\n",
    "    \n",
    "print(res)\n",
    "print(f\"q = {np.round(res, 2)}\")"
   ]
  },
  {
   "cell_type": "markdown",
   "id": "fe523784",
   "metadata": {},
   "source": [
    "С помощью библиотеки sympy"
   ]
  },
  {
   "cell_type": "code",
   "execution_count": 4,
   "id": "03d49f00",
   "metadata": {},
   "outputs": [
    {
     "data": {
      "image/png": "[encoded data removed]",
      "text/latex": [
       "$\\displaystyle n \\left(-1 + \\frac{\\left(n + 2\\right)^{\\frac{3}{2}}}{\\left(n + 1\\right)^{\\frac{3}{2}}}\\right)$"
      ],
      "text/plain": [
       "  ⎛            3/2⎞\n",
       "  ⎜     (n + 2)   ⎟\n",
       "n⋅⎜-1 + ──────────⎟\n",
       "  ⎜            3/2⎟\n",
       "  ⎝     (n + 1)   ⎠"
      ]
     },
     "execution_count": 4,
     "metadata": {},
     "output_type": "execute_result"
    }
   ],
   "source": [
    "from sympy import *\n",
    "init_printing()\n",
    "\n",
    "n=Symbol('n')\n",
    "a = n*((n+2)*sqrt(n+2)/((n+1)*sqrt(n+1)) - 1)\n",
    "a"
   ]
  },
  {
   "cell_type": "code",
   "execution_count": 5,
   "id": "d1743e08",
   "metadata": {},
   "outputs": [
    {
     "data": {
      "image/png": "[encoded data removed]",
      "text/latex": [
       "$\\displaystyle \\frac{3}{2}$"
      ],
      "text/plain": [
       "3/2"
      ]
     },
     "execution_count": 5,
     "metadata": {},
     "output_type": "execute_result"
    }
   ],
   "source": [
    "limit(a, n, oo)"
   ]
  },
  {
   "cell_type": "markdown",
   "id": "fef3959e",
   "metadata": {},
   "source": [
    "---"
   ]
  },
  {
   "cell_type": "markdown",
   "id": "0f857c90",
   "metadata": {},
   "source": [
    "__2.__ Исследовать сходимость ряда\n",
    "\n",
    "### $$\\frac{1000}{1!}+\\frac{1000^2}{2!}+\\,...\\,+\\frac{1000^n}{n!}+\\,...\\,=\\sum\\limits_{n=1}^{+\\infty}\\frac{1000^n}{n!}$$"
   ]
  },
  {
   "cell_type": "markdown",
   "id": "ecb6a0ec",
   "metadata": {},
   "source": [
    "**Решение**"
   ]
  },
  {
   "cell_type": "markdown",
   "id": "9e7ce3e1",
   "metadata": {},
   "source": [
    "Проверим\n",
    "$$\\lim_{n\\to +\\infty}a_{n}=0$$\n",
    "\n",
    "Т.к. факториал растет быстрее, то\n",
    "\n",
    "$$\\lim_{n\\to +\\infty} \\frac{1000^n}{n!} = 0 $$\n",
    "\n",
    "Необходимое условие выполнено, ряд знакопостоянный."
   ]
  },
  {
   "cell_type": "markdown",
   "id": "dc2fc3f0",
   "metadata": {},
   "source": [
    "Используем \"Признак д’Аламбера\"\n",
    "\n",
    "$$\\lim_{n\\to +\\infty}\\frac{a_{n+1}}{a_{n}}=\\lim_{n\\to +\\infty}\\frac{1000^{n+1}}{(n+1)!} \\cdot \\frac{n!}{1000^n}=\\lim_{n\\to +\\infty} \\frac{1000}{n+1} =  0$$\n",
    "\n",
    "т.к. предел равен  $0<1$, то ряд сходится."
   ]
  },
  {
   "cell_type": "markdown",
   "id": "ae54eff3",
   "metadata": {},
   "source": [
    "---"
   ]
  },
  {
   "cell_type": "markdown",
   "id": "c8841998",
   "metadata": {},
   "source": [
    "__3*.__ Исследовать сходимость ряда\n",
    "\n",
    "### $$\\frac{2\\cdot1!}{1}+\\frac{2^2\\cdot2!}{2^2}+\\,...\\,+\\frac{2^n\\cdot n!}{n^n}+\\,...\\,=\\sum\\limits_{n=1}^{+\\infty}\\frac{2^n\\cdot n!}{n^n}$$"
   ]
  },
  {
   "cell_type": "markdown",
   "id": "a2e6c47a",
   "metadata": {},
   "source": [
    "**Решение**"
   ]
  },
  {
   "cell_type": "markdown",
   "id": "99a38122",
   "metadata": {},
   "source": [
    "Проверим\n",
    "$$\\lim_{n\\to +\\infty}a_{n}=0$$\n",
    "\n",
    "Вспомним формулу Стирлинга: $n! \\sim \\sqrt{2\\pi n} \\Bigl(\\frac{n}{e}\\Bigr)^n$\n",
    "\n",
    "$$\\frac{2^n\\cdot n!}{n^n} \\sim \\frac{2^n\\cdot \\sqrt{2\\pi n} \\Bigl(\\frac{n}{e}\\Bigr)^n}{n^n}  = \\frac{n^n\\cdot \\Bigl(\\frac{2}{e}\\Bigr)^n \\cdot \\sqrt{2\\pi n}}{n^n} = \\Bigl(\\frac{2}{e}\\Bigr)^n \\cdot \\sqrt{2\\pi n}$$\n",
    "\n",
    "Так как показательная функция с основанием $<1$, то \n",
    "\n",
    "$$\\lim_{n\\to +\\infty} \\frac{2^n\\cdot n!}{n^n} = 0 $$\n",
    "\n",
    "\n",
    "\n",
    "Необходимое условие выполнено, ряд знакопостоянный."
   ]
  },
  {
   "cell_type": "markdown",
   "id": "5fa34ee9",
   "metadata": {},
   "source": [
    "Используем \"Признак д’Аламбера\"\n",
    "\n",
    "$$\\lim_{n\\to +\\infty}\\frac{a_{n+1}}{a_{n}}=\\lim_{n\\to +\\infty}\\frac{2^{n+1}\\cdot (n+1)!}{(n+1)^{n+1}} \\cdot \\frac{n^n}{2^n\\cdot n!}=\\lim_{n\\to +\\infty}\\frac{2 n^n}{(n+1)^n}=\\lim_{n\\to +\\infty}\\frac{2}{(1+\\frac{1}{n})^n}=\\frac{2}{e}$$\n",
    "\n",
    "т.к. предел равен  $\\frac{2}{e}<1$, то ряд сходится."
   ]
  },
  {
   "cell_type": "markdown",
   "id": "62acee82",
   "metadata": {},
   "source": [
    "---"
   ]
  },
  {
   "cell_type": "markdown",
   "id": "d1bec634",
   "metadata": {},
   "source": [
    "__4*.__ Исследовать сходимость ряда\n",
    "\n",
    "### $$\\frac{3\\cdot1!}{1}+\\frac{3^2\\cdot2!}{2^2}+\\,...\\,+\\frac{3^n\\cdot n!}{n^n}+\\,...\\,=\\sum\\limits_{n=1}^{+\\infty}\\frac{3^n\\cdot n!}{n^n}$$"
   ]
  },
  {
   "cell_type": "markdown",
   "id": "1f60f44b",
   "metadata": {},
   "source": [
    "**Решение**"
   ]
  },
  {
   "cell_type": "markdown",
   "id": "e90ccc66",
   "metadata": {},
   "source": [
    "Проверим\n",
    "$$\\lim_{n\\to +\\infty}a_{n}=0$$\n",
    "\n",
    "Вспомним формулу Стирлинга: $n! \\sim \\sqrt{2\\pi n} \\Bigl(\\frac{n}{e}\\Bigr)^n$\n",
    "\n",
    "$$\\frac{3^n\\cdot n!}{n^n} \\sim \\frac{3^n\\cdot \\sqrt{2\\pi n} \\Bigl(\\frac{n}{e}\\Bigr)^n}{n^n}  = \\frac{n^n\\cdot \\Bigl(\\frac{3}{e}\\Bigr)^n \\cdot \\sqrt{2\\pi n}}{n^n} = \\Bigl(\\frac{3}{e}\\Bigr)^n \\cdot \\sqrt{2\\pi n}$$\n",
    "\n",
    "Так как показательная функция с основанием $>1$, то \n",
    "\n",
    "$$\\lim_{n\\to +\\infty} \\frac{3^n\\cdot n!}{n^n} = \\infty $$\n",
    "\n",
    "Необходимое условие сходимости рядов не выполнено, значит ряд расходится. Поскольку мы использовали приближение (Формулу Стирлинга), то для убедительности можно проверить расходимость ряда с помощью \"Признака д’Аламбера\"."
   ]
  },
  {
   "cell_type": "markdown",
   "id": "067357d0",
   "metadata": {},
   "source": [
    "Используем \"Признак д’Аламбера\"\n",
    "\n",
    "$$\\lim_{n\\to +\\infty}\\frac{a_{n+1}}{a_{n}}=\\lim_{n\\to +\\infty}\\frac{3^{n+1}\\cdot (n+1)!}{(n+1)^{n+1}} \\cdot \\frac{n^n}{3^n\\cdot n!}=\\lim_{n\\to +\\infty}\\frac{3 n^n}{(n+1)^n}=\\lim_{n\\to +\\infty}\\frac{3}{(1+\\frac{1}{n})^n}=\\frac{3}{e}$$\n",
    "\n",
    "т.к. предел равен  $\\frac{3}{e}>1$, то ряд расходится."
   ]
  },
  {
   "cell_type": "markdown",
   "id": "dd2247a7",
   "metadata": {},
   "source": [
    "---"
   ]
  },
  {
   "cell_type": "markdown",
   "id": "ec0eff9e",
   "metadata": {},
   "source": [
    "__5*.__ Исследовать сходимость ряда\n",
    "\n",
    "### $$-\\frac{\\sqrt1}{2}+\\frac{\\sqrt2}{3}-\\,...\\,+\\frac{(-1)^n\\sqrt n}{n+1}+\\,...\\,=\\sum\\limits_{n=1}^{+\\infty}\\frac{(-1)^n\\sqrt n}{n+1}$$"
   ]
  },
  {
   "cell_type": "markdown",
   "id": "5422a011",
   "metadata": {},
   "source": [
    "**Решение**"
   ]
  },
  {
   "cell_type": "markdown",
   "id": "aa1164e1",
   "metadata": {},
   "source": [
    "Выражение $(-1)^n$ сразу говорит о том, что ряд знакопеременный. \n",
    "\n",
    "Выражение $\\frac{\\sqrt n}{n+1}$ - убывает монотонно.\n",
    "\n",
    "Используем \"Признак Лебега\" и рассмотрим ряд по модулю:\n",
    "\n",
    "$$\\sum\\limits_{n=1}^{+\\infty}\\frac{\\sqrt n}{n+1}$$\n",
    "\n",
    "$$\\frac{\\sqrt1}{2}+\\frac{\\sqrt2}{3}+\\,...\\,+\\frac{\\sqrt n}{n+1}+\\,...\\, \\sim O\\Bigr(\\frac{1}{n^{\\frac{1}{2}}}\\Bigl)$$\n",
    "\n",
    "т.к. степень равна  $\\frac{1}{2}<1$ , то по второму признаку сравнения данный ряд расходится.\n",
    "\n",
    "А по признаку Лебега исходный ряд сходится условно (медленно)."
   ]
  },
  {
   "cell_type": "markdown",
   "id": "61990b54",
   "metadata": {},
   "source": [
    "---"
   ]
  },
  {
   "cell_type": "markdown",
   "id": "24aad6bc",
   "metadata": {},
   "source": [
    "__6*.__ Разложить функцию $y=e^x$ в ряд Маклорена, а так же в ряд Фурье на отрезке $[-\\pi, \\pi]$. Построить график функции и разложений."
   ]
  },
  {
   "cell_type": "markdown",
   "id": "a60a2911",
   "metadata": {},
   "source": [
    "**Решение**"
   ]
  },
  {
   "cell_type": "markdown",
   "id": "b7e28a90",
   "metadata": {},
   "source": [
    "Не успел."
   ]
  },
  {
   "cell_type": "markdown",
   "id": "6346bbc3",
   "metadata": {},
   "source": [
    "---"
   ]
  }
 ],
 "metadata": {
  "kernelspec": {
   "display_name": "Python 3 (ipykernel)",
   "language": "python",
   "name": "python3"
  },
  "language_info": {
   "codemirror_mode": {
    "name": "ipython",
    "version": 3
   },
   "file_extension": ".py",
   "mimetype": "text/x-python",
   "name": "python",
   "nbconvert_exporter": "python",
   "pygments_lexer": "ipython3",
   "version": "3.8.8"
  }
 },
 "nbformat": 4,
 "nbformat_minor": 5
}
