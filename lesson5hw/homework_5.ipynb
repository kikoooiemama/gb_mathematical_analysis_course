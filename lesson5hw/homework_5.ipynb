{
 "cells": [
  {
   "cell_type": "markdown",
   "id": "850117f6",
   "metadata": {},
   "source": [
    "## Практическое задание №5 по теме \"Производная функции одной переменной. Часть 1\""
   ]
  },
  {
   "cell_type": "markdown",
   "id": "93edf5e8",
   "metadata": {},
   "source": [
    "__1.__ Найти производную функции:\n",
    "\n",
    "### $$y=\\frac{1}{x}+\\frac{2}{x^2}-\\frac{5}{x^3}+\\sqrt x -\\sqrt[3]x+\\frac{3}{\\sqrt x}$$"
   ]
  },
  {
   "cell_type": "markdown",
   "id": "98f5f1ef",
   "metadata": {},
   "source": [
    "**Решение**\n",
    "\n",
    "$$\\Bigl(\\frac{1}{x}+\\frac{2}{x^2}-\\frac{5}{x^3}+\\sqrt x -\\sqrt[3]x+\\frac{3}{\\sqrt x}\\Bigr)' = -\\frac{1}{x^2} - \\frac{2}{x^3} + \\frac{15}{x^4} + \\frac{1}{2\\sqrt x} - \\frac{\\frac{1}{3}}{\\sqrt[3]{x^2}} - \\frac{3}{2\\sqrt{x^3}}$$"
   ]
  },
  {
   "cell_type": "code",
   "execution_count": 1,
   "id": "aa1e7e26",
   "metadata": {},
   "outputs": [],
   "source": [
    "from sympy import *\n",
    "init_printing()"
   ]
  },
  {
   "cell_type": "code",
   "execution_count": 2,
   "id": "2d60b2da",
   "metadata": {},
   "outputs": [
    {
     "data": {
      "image/png": "[encoded data removed]",
      "text/latex": [
       "$\\displaystyle - \\frac{0.33}{x^{0.67}} - \\frac{1}{x^{2}} - \\frac{2}{x^{3}} + \\frac{15}{x^{4}} + \\frac{1}{2 \\sqrt{x}} - \\frac{3}{2 x^{\\frac{3}{2}}}$"
      ],
      "text/plain": [
       "        -0.67   1    2    15    1       3   \n",
       "- 0.33⋅x      - ── - ── + ── + ──── - ──────\n",
       "                 2    3    4   2⋅√x      3/2\n",
       "                x    x    x           2⋅x   "
      ]
     },
     "execution_count": 2,
     "metadata": {},
     "output_type": "execute_result"
    }
   ],
   "source": [
    "x = Symbol('x')\n",
    "f = 1/x + 1/x**2 - 5/x**3 + sqrt(x) - x**(round(1/3, 2)) + 3/sqrt(x)\n",
    "f = diff(f,x)\n",
    "f"
   ]
  },
  {
   "cell_type": "markdown",
   "id": "4de5a935",
   "metadata": {},
   "source": [
    "__2.__ Найти производную функции:\n",
    "\n",
    "### $$y=x \\cdot \\sqrt {1+x^2}$$"
   ]
  },
  {
   "cell_type": "markdown",
   "id": "bac6e400",
   "metadata": {},
   "source": [
    "**Решение**\n",
    "\n",
    "$$\\Bigl(x \\cdot \\sqrt {1+x^2} \\Bigl)' = \\sqrt {1+x^2} + \\frac{x^2}{\\sqrt {1+x^2}} = \\frac{2x^2 + 1}{\\sqrt {1+x^2}}$$"
   ]
  },
  {
   "cell_type": "code",
   "execution_count": 3,
   "id": "17250ed5",
   "metadata": {},
   "outputs": [
    {
     "data": {
      "image/png": "[encoded data removed]",
      "text/latex": [
       "$\\displaystyle \\frac{2 x^{2} + 1}{\\sqrt{x^{2} + 1}}$"
      ],
      "text/plain": [
       "     2     \n",
       "  2⋅x  + 1 \n",
       "───────────\n",
       "   ________\n",
       "  ╱  2     \n",
       "╲╱  x  + 1 "
      ]
     },
     "execution_count": 3,
     "metadata": {},
     "output_type": "execute_result"
    }
   ],
   "source": [
    "x = Symbol('x')\n",
    "f = x*sqrt(1+x**2)\n",
    "f = diff(f,x)\n",
    "f = together(f)\n",
    "f"
   ]
  },
  {
   "cell_type": "markdown",
   "id": "98b215ce",
   "metadata": {},
   "source": [
    "__3.__ Найти производную функции:\n",
    "\n",
    "### $$y= \\frac{2x}{1-x^2}$$"
   ]
  },
  {
   "cell_type": "markdown",
   "id": "8dc166f3",
   "metadata": {},
   "source": [
    "**Решение**\n",
    "\n",
    "$$\\Bigl(\\frac{2x}{1-x^2} \\Bigr)' = \\frac{2(1-x^2)-2x(-2x)}{(1-x^2)^{2}} = \\frac{2-2x^2+4x^2}{(1-x^2)^{2}} = \\frac{2(x^2+1)}{(1-x^2)^{2}}$$"
   ]
  },
  {
   "cell_type": "code",
   "execution_count": 4,
   "id": "2a497ca3",
   "metadata": {},
   "outputs": [
    {
     "data": {
      "image/png": "[encoded data removed]",
      "text/latex": [
       "$\\displaystyle \\frac{2 \\left(x^{2} + 1\\right)}{\\left(1 - x^{2}\\right)^{2}}$"
      ],
      "text/plain": [
       "  ⎛ 2    ⎞\n",
       "2⋅⎝x  + 1⎠\n",
       "──────────\n",
       "        2 \n",
       "⎛     2⎞  \n",
       "⎝1 - x ⎠  "
      ]
     },
     "execution_count": 4,
     "metadata": {},
     "output_type": "execute_result"
    }
   ],
   "source": [
    "x = Symbol('x')\n",
    "f = 2*x/(1-x**2)\n",
    "f = diff(f,x)\n",
    "f = together(f)\n",
    "f"
   ]
  },
  {
   "cell_type": "markdown",
   "id": "66dde049",
   "metadata": {},
   "source": [
    "__4*.__ Найти производную функции:\n",
    "\n",
    "### $$y=\\sqrt{x+ \\sqrt{x+\\sqrt x}}$$"
   ]
  },
  {
   "cell_type": "markdown",
   "id": "9cb1d6fe",
   "metadata": {},
   "source": [
    "**Решение**\n",
    "\n",
    "$$\\Bigl( \\sqrt{x+\\sqrt{x+\\sqrt x}} \\Bigr)' = \\frac{1}{2}\\cdot\\frac{1}{\\sqrt{x+\\sqrt{x+\\sqrt{x}}}} \\cdot\\Bigl(1+\\frac{1}{2\\sqrt{x+\\sqrt{x}}}\\cdot(1+\\frac{1}{2\\sqrt{x}})\\Bigr) = $$ \n",
    "\n",
    "$$ = \\frac{1}{2\\sqrt{x+\\sqrt{x+\\sqrt{x}}}} \\cdot \\Bigl(1+ \\frac{1+2\\sqrt{x}}{4\\sqrt{x}\\sqrt{x+\\sqrt{x}}}\\Bigr) = \\frac{1}{2\\sqrt{x+\\sqrt{x+\\sqrt{x}}}} \\cdot \\frac{1+2\\sqrt{x} + 4\\sqrt{x}\\sqrt{x+\\sqrt{x}}}{4\\sqrt{x}\\sqrt{x+\\sqrt{x}}} =$$\n",
    "\n",
    "$$= \\frac{1+2\\sqrt{x} + 4\\sqrt{x}\\sqrt{x+\\sqrt{x}}}{8\\sqrt{x}\\sqrt{x+\\sqrt{x}}\\sqrt{x+\\sqrt{x+\\sqrt{x}}}}$$"
   ]
  },
  {
   "cell_type": "code",
   "execution_count": 5,
   "id": "9d44d9d0",
   "metadata": {
    "scrolled": true
   },
   "outputs": [
    {
     "data": {
      "image/png": "[encoded data removed]",
      "text/latex": [
       "$\\displaystyle \\frac{4 \\sqrt{x} \\sqrt{\\sqrt{x} + x} + 2 \\sqrt{x} + 1}{8 \\sqrt{x} \\sqrt{\\sqrt{x} + x} \\sqrt{x + \\sqrt{\\sqrt{x} + x}}}$"
      ],
      "text/plain": [
       "            ________               \n",
       "     4⋅√x⋅╲╱ √x + x  + 2⋅√x + 1    \n",
       "───────────────────────────────────\n",
       "                   ________________\n",
       "       ________   ╱       ________ \n",
       "8⋅√x⋅╲╱ √x + x ⋅╲╱  x + ╲╱ √x + x  "
      ]
     },
     "execution_count": 5,
     "metadata": {},
     "output_type": "execute_result"
    }
   ],
   "source": [
    "x = Symbol('x')\n",
    "f = sqrt(x+sqrt(x + sqrt(x)))\n",
    "f = diff(f,x)\n",
    "f = together(f)\n",
    "f"
   ]
  },
  {
   "cell_type": "markdown",
   "id": "8c587ecd",
   "metadata": {},
   "source": [
    "__5.__ Найти производную функции:\n",
    "\n",
    "### $$y= \\ln(x+\\sqrt{x^2+1})$$"
   ]
  },
  {
   "cell_type": "markdown",
   "id": "b81906c3",
   "metadata": {},
   "source": [
    "**Решение**\n",
    "\n",
    "$$\\Bigl(\\ln(x+\\sqrt{x^2+1})\\Bigr)'= \\frac{1}{x+\\sqrt{x^2+1}} \\cdot \\Bigl(1+\\frac{x}{\\sqrt{x^2+1}}\\Bigr) = $$\n",
    "\n",
    "$$ = \\frac{x+\\sqrt{x^2+1}}{x+\\sqrt{x^2+1}} \\cdot \\frac{1}{\\sqrt{x^2+1}} = \\frac{1}{\\sqrt{x^2+1}}$$"
   ]
  },
  {
   "cell_type": "code",
   "execution_count": 6,
   "id": "e0b25fe2",
   "metadata": {},
   "outputs": [
    {
     "data": {
      "image/png": "[encoded data removed]",
      "text/latex": [
       "$\\displaystyle \\frac{1}{\\sqrt{x^{2} + 1}}$"
      ],
      "text/plain": [
       "     1     \n",
       "───────────\n",
       "   ________\n",
       "  ╱  2     \n",
       "╲╱  x  + 1 "
      ]
     },
     "execution_count": 6,
     "metadata": {},
     "output_type": "execute_result"
    }
   ],
   "source": [
    "x = Symbol('x')\n",
    "f = ln(x+sqrt(x**2+1))\n",
    "f = diff(f,x)\n",
    "f = together(f)\n",
    "f"
   ]
  },
  {
   "cell_type": "markdown",
   "id": "c1f57133",
   "metadata": {},
   "source": [
    "__6.__ Найти производную функции:\n",
    "\n",
    "### $$y=x \\cdot \\ln(x+\\sqrt{x^2+1})-\\sqrt{x^2+1}$$"
   ]
  },
  {
   "cell_type": "markdown",
   "id": "4259fb69",
   "metadata": {},
   "source": [
    "**Решение**\n",
    "\n",
    "$$ \\Bigl( x \\cdot \\ln(x+\\sqrt{x^2+1})-\\sqrt{x^2+1} \\Bigr)' = \\ln(x+\\sqrt{x^2+1}) + \\frac{x}{\\sqrt{x^2+1}} - \\frac{x}{\\sqrt{x^2+1}} = \\ln(x+\\sqrt{x^2+1})$$   "
   ]
  },
  {
   "cell_type": "code",
   "execution_count": 7,
   "id": "2c4a2ec4",
   "metadata": {},
   "outputs": [
    {
     "data": {
      "image/png": "[encoded data removed]",
      "text/latex": [
       "$\\displaystyle \\log{\\left(x + \\sqrt{x^{2} + 1} \\right)}$"
      ],
      "text/plain": [
       "   ⎛       ________⎞\n",
       "   ⎜      ╱  2     ⎟\n",
       "log⎝x + ╲╱  x  + 1 ⎠"
      ]
     },
     "execution_count": 7,
     "metadata": {},
     "output_type": "execute_result"
    }
   ],
   "source": [
    "x = Symbol('x')\n",
    "f = x*ln(x+sqrt(x**2+1)) - sqrt(x**2+1)\n",
    "f = diff(f,x)\n",
    "f = together(f)\n",
    "f"
   ]
  },
  {
   "cell_type": "markdown",
   "id": "a14f694a",
   "metadata": {},
   "source": [
    "__7*.__ Найти производную функции:\n",
    "\n",
    "### $$y=\\arcsin (\\sin x)$$"
   ]
  },
  {
   "cell_type": "markdown",
   "id": "55dbaae2",
   "metadata": {},
   "source": [
    "**Решение**\n",
    "\n",
    "$$\\Bigl(\\arcsin (\\sin x) \\Bigr)' = \\frac{1}{\\sqrt{1-\\sin^{2}x}} \\cdot \\cos x = \\frac{\\cos x}{\\sqrt{1-\\sin^{2}x}}$$"
   ]
  },
  {
   "cell_type": "code",
   "execution_count": 8,
   "id": "07383670",
   "metadata": {},
   "outputs": [
    {
     "data": {
      "image/png": "[encoded data removed]",
      "text/latex": [
       "$\\displaystyle \\frac{\\cos{\\left(x \\right)}}{\\sqrt{1 - \\sin^{2}{\\left(x \\right)}}}$"
      ],
      "text/plain": [
       "     cos(x)     \n",
       "────────────────\n",
       "   _____________\n",
       "  ╱        2    \n",
       "╲╱  1 - sin (x) "
      ]
     },
     "execution_count": 8,
     "metadata": {},
     "output_type": "execute_result"
    }
   ],
   "source": [
    "x = Symbol('x')\n",
    "f = asin(sin(x))\n",
    "f = diff(f,x)\n",
    "f = together(f)\n",
    "f"
   ]
  },
  {
   "cell_type": "markdown",
   "id": "a25db57c",
   "metadata": {},
   "source": [
    "__8*.__ Вычислить приближенное значение: \n",
    "\n",
    "### $$\\sin(1^0)=\\sin\\Bigl(\\frac{\\pi}{180}\\Bigr)$$"
   ]
  },
  {
   "cell_type": "markdown",
   "id": "67abd87d",
   "metadata": {},
   "source": [
    "**Решение**\n",
    "\n",
    "$$f'(x)\\approx \\frac{f(x+\\Delta x)-f(x)}{\\Delta x}$$\n",
    "\n",
    "$$\\sin(1^0) = \\sin(0 + \\frac{\\pi}{180}) \\approx \\sin(0) + \\cos(0)\\cdot\\frac{\\pi}{180} = \\frac{\\pi}{180}$$"
   ]
  },
  {
   "cell_type": "code",
   "execution_count": 9,
   "id": "a6e6a000",
   "metadata": {},
   "outputs": [
    {
     "data": {
      "image/png": "[encoded data removed]",
      "text/latex": [
       "$\\displaystyle 0.0175$"
      ],
      "text/plain": [
       "0.0175"
      ]
     },
     "execution_count": 9,
     "metadata": {},
     "output_type": "execute_result"
    }
   ],
   "source": [
    "import numpy as np\n",
    "\n",
    "s = np.pi/180\n",
    "np.round(s, 4)"
   ]
  },
  {
   "cell_type": "markdown",
   "id": "2062e553",
   "metadata": {},
   "source": [
    "По таблице Брадиса $\\sin(1^0) = 0.0175$"
   ]
  },
  {
   "cell_type": "markdown",
   "id": "2fc21469",
   "metadata": {},
   "source": [
    "__9**.__ Написать на python алгоритм, по вычислению значений $\\sin(x)$ для $х \\in[0, 30^0]$\n",
    "\n",
    "Для проверки подойдут данные из [таблицы Брадиса](https://ru.onlinemschool.com/math/formula/bradis_table/)"
   ]
  },
  {
   "cell_type": "code",
   "execution_count": 38,
   "id": "2f355450",
   "metadata": {},
   "outputs": [],
   "source": [
    "# угол в градусах \n",
    "angle = 10"
   ]
  },
  {
   "cell_type": "code",
   "execution_count": 39,
   "id": "381842b0",
   "metadata": {},
   "outputs": [
    {
     "name": "stdout",
     "output_type": "stream",
     "text": [
      "x=10°\n",
      "sin(x)=0.1747\n"
     ]
    }
   ],
   "source": [
    "import numpy as np\n",
    "\n",
    "\n",
    "def my_cos(m_sin):\n",
    "    return np.sqrt(1 - (m_sin ** 2))\n",
    "\n",
    "\n",
    "delta_x = 0.01 * np.pi / 180\n",
    "res = 0\n",
    "angle_rad = np.round(np.pi * angle / 180, 15)\n",
    "\n",
    "if angle == 0:\n",
    "    print(f\"x={angle}°\\nsin(x)=0\")\n",
    "elif angle == 30:\n",
    "    print(f\"x={angle}°\\nsin(x)=0.5\")\n",
    "elif angle > 0 and angle < 30:\n",
    "    angle_counter = 0\n",
    "    angle_counter += delta_x\n",
    "    sin_x = delta_x\n",
    "    add = my_cos(sin_x) * delta_x\n",
    "    res = sin_x\n",
    "    while angle_counter < angle_rad:\n",
    "        sin_x = sin_x + add\n",
    "        angle_counter += delta_x\n",
    "    res = sin_x\n",
    "    print(f\"x={angle}°\\nsin(x)={np.round(res, 4)}\")\n",
    "else:\n",
    "    print(\"Значение угла выходит за интервал [0,30]\")\n",
    "\n"
   ]
  },
  {
   "cell_type": "markdown",
   "id": "ab084a57",
   "metadata": {},
   "source": [
    "---"
   ]
  }
 ],
 "metadata": {
  "kernelspec": {
   "display_name": "Python 3 (ipykernel)",
   "language": "python",
   "name": "python3"
  },
  "language_info": {
   "codemirror_mode": {
    "name": "ipython",
    "version": 3
   },
   "file_extension": ".py",
   "mimetype": "text/x-python",
   "name": "python",
   "nbconvert_exporter": "python",
   "pygments_lexer": "ipython3",
   "version": "3.8.8"
  }
 },
 "nbformat": 4,
 "nbformat_minor": 5
}
