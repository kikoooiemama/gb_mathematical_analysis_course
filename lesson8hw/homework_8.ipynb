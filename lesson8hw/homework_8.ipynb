{
 "cells": [
  {
   "cell_type": "markdown",
   "id": "467c9e1d",
   "metadata": {},
   "source": [
    "## Практическое задание №8 по теме \"Производная функции нескольких переменных. Часть 2\""
   ]
  },
  {
   "cell_type": "markdown",
   "id": "5a9bf428",
   "metadata": {},
   "source": [
    "__1.__ Исследовать на условный экстремум функцию\n",
    "\n",
    "### $$U=3-8x+6y,$$\n",
    "\n",
    "если\n",
    "\n",
    "### $$x^2+y^2=36$$"
   ]
  },
  {
   "cell_type": "markdown",
   "id": "79a9bb9a",
   "metadata": {},
   "source": [
    "**Решение**"
   ]
  },
  {
   "cell_type": "markdown",
   "id": "84c90f06",
   "metadata": {},
   "source": [
    "Составим функцию Лагранжа:\n",
    "\n",
    "$$L(x_{1},x_{2},...,x_{n}, \\lambda_{1},\\lambda_{2},...,\\lambda_{k})=U(x_{1},x_{2},...,x_{n}) +\\lambda_{i} \\cdot f_{i}(x_{1},x_{2},...,x_{n})$$ \n",
    "\n",
    "$$U=3-8x+6y,$$\n",
    "\n",
    "$$x^2+y^2 - 36=0$$\n",
    "\n",
    "$$L(x,y,\\lambda)=3-8x+6y +\\lambda \\cdot (x^2+y^2-36)$$"
   ]
  },
  {
   "cell_type": "markdown",
   "id": "14e58874",
   "metadata": {},
   "source": [
    "Найдем частные производные, приравняем их к нулю и решим систему уравнений:\n",
    "\n",
    "$$\\begin{cases}\n",
    "   L'_{x}=-8+2x\\lambda=0, \\\\\n",
    "   L'_{y}=6+2y\\lambda=0, \\\\\n",
    "   L'_{\\lambda}=x^2+y^2-36=0\n",
    " \\end{cases}$$\n",
    " \n",
    "Выразим из первого уравнения $x$, из второго $y$ и подставим всё в третье:\n",
    "\n",
    "$$\\begin{cases}\n",
    "   x=\\frac{4}{\\lambda} \\\\\n",
    "   y=-\\frac{3}{\\lambda} \\\\\n",
    "   (\\frac{4}{\\lambda})^2+(-\\frac{3}{\\lambda})^2=36\n",
    " \\end{cases}\n",
    " \\Rightarrow \n",
    " \\begin{cases}\n",
    "   x=\\frac{4}{\\lambda} \\\\\n",
    "   y=-\\frac{3}{\\lambda} \\\\\n",
    "   \\lambda^2=\\frac{25}{36}\n",
    " \\end{cases}$$\n",
    " \n",
    " \n",
    "$$ \\Rightarrow \\begin{cases}\n",
    "   x=-\\frac{24}{5} \\\\\n",
    "   y=\\frac{18}{5} \\\\\n",
    "   \\lambda=-\\frac{5}{6}\n",
    " \\end{cases}  или \\,\\,\\,\\,\\,\n",
    " \\begin{cases}\n",
    "   x=\\frac{24}{5} \\\\\n",
    "   y=-\\frac{18}{5} \\\\\n",
    "   \\lambda=\\frac{5}{6}\n",
    " \\end{cases}$$\n",
    " \n",
    "Таким образом, нашли две стационарные точки: $\\Bigl(-\\frac{24}{5};\\frac{18}{5};-\\frac{5}{6}\\Bigr)$, $\\Bigl(\\frac{24}{5};-\\frac{18}{5};\\frac{5}{6}\\Bigr)$."
   ]
  },
  {
   "cell_type": "markdown",
   "id": "16791508",
   "metadata": {},
   "source": [
    "Найдем вторые производные:\n",
    "\n",
    "$L''_{xx}=2\\lambda$\n",
    "\n",
    "$L''_{yy}=2\\lambda$\n",
    "\n",
    "$L''_{\\lambda \\lambda}=0$\n",
    "\n",
    "$L''_{xy}=L''_{yx}=0$\n",
    "\n",
    "$L''_{x\\lambda}=L''_{\\lambda x}=2x$\n",
    "\n",
    "$L''_{y\\lambda}=L''_{\\lambda y}=2y$\n"
   ]
  },
  {
   "cell_type": "markdown",
   "id": "6d35b5df",
   "metadata": {},
   "source": [
    "Составим матрицу Гёссе. Для условного экстремума заполняем ее, начиная с  $\\lambda$ .\n",
    "\n",
    "$$\\begin{pmatrix}\n",
    "L''_{\\lambda \\lambda} & L''_{\\lambda x} & L''_{\\lambda y}\\\\ \n",
    "L''_{x \\lambda} & L''_{xx} & L''_{xy}\\\\\n",
    "L''_{y \\lambda} & L''_{yx} & L''_{yy}\\\\\n",
    "\\end{pmatrix}\\Rightarrow\n",
    "\\begin{pmatrix}\n",
    "0 & 2x & 2y\\\\ \n",
    "2x & 2\\lambda & 0\\\\\n",
    "2y & 0 & 2\\lambda\\\\\n",
    "\\end{pmatrix}$$"
   ]
  },
  {
   "cell_type": "markdown",
   "id": "40d55d71",
   "metadata": {},
   "source": [
    "Далее найдем определитель в общем виде.\n",
    "\n",
    "$$\\Delta=\\begin{vmatrix}\n",
    "0 & 2x & 2y\\\\ \n",
    "2x & 2\\lambda & 0\\\\\n",
    "2y & 0 & 2\\lambda\\\\\n",
    "\\end{vmatrix}= 0-2x\\cdot 4x\\lambda+2y \\cdot(-4y\\lambda)=-8\\lambda(x^2+y^2)$$\n",
    "\n",
    "По условию задачи $x^2+y^2=36$, тогда \n",
    "$$\\Delta=-288\\lambda$$\n",
    "\n",
    "Т.е. знак определителя зависит только от знака $\\lambda$."
   ]
  },
  {
   "cell_type": "markdown",
   "id": "e41c47ad",
   "metadata": {},
   "source": [
    "Если $\\lambda=-\\frac{5}{6}$, то $\\Delta>0$, следовательно точка $\\Bigl(-\\frac{24}{5},\\frac{18}{5},-\\frac{5}{6}\\Bigr)$ - точка максимума.\n",
    "\n",
    "Если $\\lambda=\\frac{5}{6}$, то $\\Delta<0$, следовательно точка $\\Bigl(\\frac{24}{5},-\\frac{18}{5},\\frac{5}{6}\\Bigr)$ - точка минимума."
   ]
  },
  {
   "cell_type": "markdown",
   "id": "86668418",
   "metadata": {},
   "source": [
    "---"
   ]
  },
  {
   "cell_type": "markdown",
   "id": "c89b245e",
   "metadata": {},
   "source": [
    "__2.__ Исследовать на условный экстремум функцию\n",
    "\n",
    "### $$U=2x^2+12xy+32y^2+15,$$\n",
    "\n",
    "если\n",
    "\n",
    "### $$x^2+16y^2=64$$"
   ]
  },
  {
   "cell_type": "markdown",
   "id": "7557a973",
   "metadata": {},
   "source": [
    "**Решение**"
   ]
  },
  {
   "cell_type": "markdown",
   "id": "bbbb7338",
   "metadata": {},
   "source": [
    "Составим функцию Лагранжа:\n",
    "\n",
    "$$L(x_{1},x_{2},...,x_{n}, \\lambda_{1},\\lambda_{2},...,\\lambda_{k})=U(x_{1},x_{2},...,x_{n}) +\\lambda_{i} \\cdot f_{i}(x_{1},x_{2},...,x_{n})$$ \n",
    "\n",
    "$$U=2x^2+12xy+32y^2+15,$$\n",
    "\n",
    "$$x^2+16y^2 - 64=0$$\n",
    "\n",
    "$$L(x,y,\\lambda)=2x^2+12xy+32y^2+15 +\\lambda \\cdot (x^2+16y^2-64)$$"
   ]
  },
  {
   "cell_type": "markdown",
   "id": "d6795737",
   "metadata": {},
   "source": [
    "Найдем частные производные, приравняем их к нулю и решим систему уравнений:\n",
    "\n",
    "$$\\begin{cases}\n",
    "   L'_{x}=4x+12y+2x\\lambda =0, \\\\\n",
    "   L'_{y}=12x+64y+32y\\lambda =0, \\\\\n",
    "   L'_{\\lambda}=x^2+16y^2-64=0\n",
    " \\end{cases}$$\n",
    " \n",
    "Выразим из первого уравнения и из второго уравнения $\\lambda$:\n",
    "\n",
    "\n",
    "$$\\begin{cases}\n",
    "   4x+12y+2x\\lambda =0 \\\\\n",
    "   12x+64y+32y\\lambda =0 \\\\\n",
    "   x^2+16y^2-64=0\n",
    " \\end{cases}\n",
    " \\Rightarrow \n",
    " \\begin{cases}\n",
    "   \\lambda=-\\frac{2x+6y}{x} \\\\\n",
    "   \\lambda=-\\frac{3x+16y}{8y} \\\\\n",
    "   x^2+16y^2=64\n",
    " \\end{cases}\n",
    " \\Rightarrow \n",
    " \\begin{cases}\n",
    "   \\lambda=-\\frac{2x+6y}{x} \\\\\n",
    "   \\frac{2x+6y}{x}=\\frac{3x+16y}{8y} \\\\\n",
    "   x^2+16y^2=64\n",
    " \\end{cases}\n",
    " \\Rightarrow$$\n",
    " \n",
    "$$\\Rightarrow\n",
    " \\begin{cases}\n",
    "   \\lambda=-\\frac{2x+6y}{x} \\\\\n",
    "   16xy+48y^2=3x^2+16xy \\\\\n",
    "   x^2+16y^2=64\n",
    " \\end{cases}\n",
    " \\Rightarrow\n",
    " \\begin{cases}\n",
    "   \\lambda=-\\frac{2x+6y}{x} \\\\\n",
    "   16y^2=x^2 \\\\\n",
    "   x^2=32\n",
    " \\end{cases}\n",
    " \\Rightarrow\n",
    " \\begin{cases}\n",
    "   \\lambda=-\\frac{2x+6y}{x} \\\\\n",
    "   16y^2=32 \\\\\n",
    "   x^2=32\n",
    " \\end{cases}\n",
    " $$\n",
    " \n",
    "$$\n",
    "\\left[ \n",
    "\\begin{gathered}\n",
    "    \\begin{cases}\n",
    "        x=-4\\sqrt2 \\\\\n",
    "        y=-\\sqrt2 \\\\\n",
    "        \\lambda = -\\frac{7}{2}\n",
    "    \\end{cases}\\\\\n",
    "    \\begin{cases}\n",
    "        x=4\\sqrt2 \\\\\n",
    "        y=\\sqrt2 \\\\\n",
    "        \\lambda = -\\frac{7}{2}\n",
    "    \\end{cases}\\\\\n",
    "    \\begin{cases}\n",
    "        x=-4\\sqrt2 \\\\\n",
    "        y=\\sqrt2 \\\\\n",
    "        \\lambda = -\\frac{1}{2}\n",
    "    \\end{cases}\\\\\n",
    "    \\begin{cases}\n",
    "        x=4\\sqrt2 \\\\\n",
    "        y=-\\sqrt2 \\\\\n",
    "        \\lambda =-\\frac{1}{2}\n",
    "    \\end{cases}\n",
    "\\end{gathered} \n",
    "\\right.\\,$$\n",
    " \n",
    "\n",
    "Таким образом, нашли 4 стационарные точки: $\\Bigl(-4\\sqrt2;-\\sqrt2;-\\frac{7}{2}\\Bigr)$, $\\Bigl(4\\sqrt2;\\sqrt2;-\\frac{7}{2}\\Bigr)$, $\\Bigl(-4\\sqrt2;\\sqrt2;-\\frac{1}{2}\\Bigr)$, $\\Bigl(4\\sqrt2;-\\sqrt2;-\\frac{1}{2}\\Bigr)$"
   ]
  },
  {
   "cell_type": "markdown",
   "id": "d6c8a3c5",
   "metadata": {},
   "source": [
    "Найдем вторые производные:\n",
    "\n",
    "$L''_{xx}=4+2\\lambda$\n",
    "\n",
    "$L''_{yy}=64+32\\lambda$\n",
    "\n",
    "$L''_{\\lambda \\lambda}=0$\n",
    "\n",
    "$L''_{xy}=L''_{yx}=12$\n",
    "\n",
    "$L''_{x\\lambda}=L''_{\\lambda x}=2x$\n",
    "\n",
    "$L''_{y\\lambda}=L''_{\\lambda y}=32y$"
   ]
  },
  {
   "cell_type": "markdown",
   "id": "5ef535f0",
   "metadata": {},
   "source": [
    "Составим матрицу Гёссе. Для условного экстремума заполняем ее, начиная с  $\\lambda$.\n",
    "\n",
    "$$\\begin{pmatrix}\n",
    "L''_{\\lambda \\lambda} & L''_{\\lambda x} & L''_{\\lambda y}\\\\ \n",
    "L''_{x \\lambda} & L''_{xx} & L''_{xy}\\\\\n",
    "L''_{y \\lambda} & L''_{yx} & L''_{yy}\\\\\n",
    "\\end{pmatrix}\n",
    "\\Rightarrow\n",
    "\\begin{pmatrix}\n",
    "0 & 2x & 32y\\\\ \n",
    "2x & 4+2\\lambda & 12\\\\\n",
    "32y & 12 & 64+32\\lambda\\\\\n",
    "\\end{pmatrix}$$"
   ]
  },
  {
   "cell_type": "markdown",
   "id": "9f75b7ff",
   "metadata": {},
   "source": [
    "Далее найдем определитель в общем виде.\n",
    "\n",
    "$$\\Delta=\\begin{vmatrix}\n",
    "0 & 2x & 32y\\\\ \n",
    "2x & 4+2\\lambda & 12\\\\\n",
    "32y & 12 & 64+32\\lambda\\\\\n",
    "\\end{vmatrix}$$\n",
    "\n",
    "$$=0-2x(128x+64x\\lambda-384y)+32y(24x-128y-64y\\lambda)=$$\n",
    "\n",
    "$$=-256x^2-128x^2\\lambda+1536xy-4096y^2-2048y^2\\lambda$$\n",
    "\n",
    "Вспомним, что по условию $x^2+16y^2=64$ и упростим:\n",
    "\n",
    "$$\\Delta=-256x^2-128x^2\\lambda+1536xy-4096y^2-2048y^2\\lambda=$$\n",
    "\n",
    "$$=-256(x^2+16y^2)-128\\lambda(x^2+16y^2)+1536xy=-16384-8192\\lambda+1536xy$$"
   ]
  },
  {
   "cell_type": "markdown",
   "id": "1dacc61b",
   "metadata": {},
   "source": [
    "Проверяем определитель для каждой точки:\n",
    "\n",
    "$\\Bigl(-4\\sqrt2;-\\sqrt2;-\\frac{7}{2}\\Bigr)$ - точка максимума, т.к. $\\Delta>0$\n",
    "\n",
    "$\\Bigl(4\\sqrt2;\\sqrt2;-\\frac{7}{2}\\Bigr)$ - точка максимума, т.к. $\\Delta>0$\n",
    "\n",
    "$\\Bigl(-4\\sqrt2;\\sqrt2;-\\frac{1}{2}\\Bigr)$ - точка минимума, т.к. $\\Delta<0$\n",
    "\n",
    "$\\Bigl(4\\sqrt2;-\\sqrt2;-\\frac{1}{2}\\Bigr)$ - точка минимума, т.к. $\\Delta<0$"
   ]
  },
  {
   "cell_type": "markdown",
   "id": "448e7ba1",
   "metadata": {},
   "source": [
    "---"
   ]
  },
  {
   "cell_type": "markdown",
   "id": "72216579",
   "metadata": {},
   "source": [
    "__3.__ Численно найти хотя бы один действительный корень системы нелинейных уравнений:\n",
    "### $$\\begin{cases}\n",
    "   x^2-y^2+3xy^3-2x^2y^2+2x-3y-5=0 \\\\\n",
    "   3y^3-2x^2+2x^3y-5x^2y^2+5=0\n",
    " \\end{cases}$$"
   ]
  },
  {
   "cell_type": "markdown",
   "id": "e7bcfd44",
   "metadata": {},
   "source": [
    "**Решение**"
   ]
  },
  {
   "cell_type": "code",
   "execution_count": 1,
   "id": "fe43d4f6",
   "metadata": {},
   "outputs": [],
   "source": [
    "import numpy as np\n",
    "from scipy.optimize import fsolve\n",
    "import math"
   ]
  },
  {
   "cell_type": "markdown",
   "id": "051efd0b",
   "metadata": {},
   "source": [
    "Запись системы уравнений: $\\begin{cases}\n",
    "   x^2-y^2+3xy^3-2x^2y^2+2x-3y-5=0 \\\\\n",
    "   3y^3-2x^2+2x^3y-5x^2y^2+5=0\n",
    " \\end{cases}$"
   ]
  },
  {
   "cell_type": "code",
   "execution_count": 2,
   "id": "0416c216",
   "metadata": {},
   "outputs": [],
   "source": [
    "def equations(p):\n",
    "    x, y = p\n",
    "    return (x**2 - y**2 + 3*x*(y**3) - 2*(x**2)*(y**2) + 2*x - 3*y - 5, \n",
    "            3*(y**3) - 2*(x**2) + 2*(x**3)*y - 5*(x**2)*(y**2) + 5)"
   ]
  },
  {
   "cell_type": "code",
   "execution_count": 3,
   "id": "1ac8945d",
   "metadata": {},
   "outputs": [
    {
     "name": "stdout",
     "output_type": "stream",
     "text": [
      "x=1.375687140379588, y=-0.17475798541530854, ier=1\n"
     ]
    }
   ],
   "source": [
    "# Численное решение нелинечной системы уравнений\n",
    "(x, y), info, ier, mesg =  fsolve(equations, (0, 0), full_output=True)\n",
    "print(f\"x={x}, y={y}, ier={ier}\")"
   ]
  },
  {
   "cell_type": "code",
   "execution_count": 4,
   "id": "3272e8d3",
   "metadata": {},
   "outputs": [
    {
     "name": "stdout",
     "output_type": "stream",
     "text": [
      "x=1.2733020645285607, y=1.662039122427856, ier=1\n"
     ]
    }
   ],
   "source": [
    "# Численное решение нелинечной системы уравнений\n",
    "(x, y), info, ier, mesg =  fsolve(equations, (5, 5), full_output=True)\n",
    "print(f\"x={x}, y={y}, ier={ier}\")"
   ]
  },
  {
   "cell_type": "markdown",
   "id": "f7b27a4f",
   "metadata": {},
   "source": [
    "---"
   ]
  },
  {
   "cell_type": "markdown",
   "id": "343040ba",
   "metadata": {},
   "source": [
    "__4*.__ Численно найти все $5$ действительных корней."
   ]
  },
  {
   "cell_type": "markdown",
   "id": "0b21db72",
   "metadata": {},
   "source": [
    "**Решение**"
   ]
  },
  {
   "cell_type": "code",
   "execution_count": 5,
   "id": "15497747",
   "metadata": {},
   "outputs": [],
   "source": [
    "import numpy as np\n",
    "from scipy.optimize import fsolve\n",
    "import math"
   ]
  },
  {
   "cell_type": "code",
   "execution_count": 6,
   "id": "253569bd",
   "metadata": {},
   "outputs": [],
   "source": [
    "def equations(p):\n",
    "    x, y = p\n",
    "    return (x**2 - y**2 + 3*x*(y**3) - 2*(x**2)*(y**2) + 2*x - 3*y - 5, \n",
    "            3*(y**3) - 2*(x**2) + 2*(x**3)*y - 5*(x**2)*(y**2) + 5)"
   ]
  },
  {
   "cell_type": "code",
   "execution_count": 7,
   "id": "7c9e0dba",
   "metadata": {},
   "outputs": [],
   "source": [
    "result = []\n",
    "interval = 15\n",
    "step = 1\n",
    "x0_list = np.arange(-interval, interval, step)\n",
    "y0_list = np.arange(-interval, interval, step)\n",
    "\n",
    "for x0 in x0_list:\n",
    "    for y0 in y0_list:\n",
    "        (x, y), info, ier, mesg =  fsolve(equations, (x0, y0), full_output=True)\n",
    "        if (ier == 1):\n",
    "            result.append((np.round(x,3),np.round(y,3)))\n",
    "result = set(result)"
   ]
  },
  {
   "cell_type": "code",
   "execution_count": 8,
   "id": "e3722a6b",
   "metadata": {},
   "outputs": [
    {
     "name": "stdout",
     "output_type": "stream",
     "text": [
      "5  действительных корней:\n",
      "\t(2.218; 0.61)\n",
      "\t(1.273; 1.662)\n",
      "\t(2.494; 0.708)\n",
      "\t(-3.653; -0.275)\n",
      "\t(1.376; -0.175)\n"
     ]
    }
   ],
   "source": [
    "print(\"5  действительных корней:\")\n",
    "for res in result:\n",
    "    print(f\"\\t({res[0]}; {res[1]})\")"
   ]
  },
  {
   "cell_type": "markdown",
   "id": "90e69ba7",
   "metadata": {},
   "source": [
    "---"
   ]
  },
  {
   "cell_type": "markdown",
   "id": "150e2278",
   "metadata": {},
   "source": [
    "__5*.__ Даны две функции $y_{1}=f(x)$ и $y_{2}=g(x)$. Известно, что:\n",
    "\n",
    "### $$f'(x)=\\frac{1}{2}g(x)$$\n",
    "\n",
    "### $$g'(x)=2-2f(x)$$\n",
    "\n",
    "### $$f(0)=0$$\n",
    "\n",
    "### $$g(0)=1$$\n",
    "\n",
    "Восстановить функции $y_{1}=f(x)$ и $y_{2}=g(x)$ с помощью формулы:\n",
    "\n",
    "### $$f(x+\\Delta x) \\approx f(x)+f'(x) \\cdot \\Delta x$$\n",
    "\n",
    "на участке $[0, 20]$\n",
    "\n",
    "В качестве решения построить график этих функций в одной системе координат.\n"
   ]
  },
  {
   "cell_type": "markdown",
   "id": "f80fc34a",
   "metadata": {},
   "source": [
    "**Решение**"
   ]
  },
  {
   "cell_type": "markdown",
   "id": "88012938",
   "metadata": {},
   "source": [
    "Не успел."
   ]
  },
  {
   "cell_type": "markdown",
   "id": "a7429305",
   "metadata": {},
   "source": [
    "---"
   ]
  },
  {
   "cell_type": "markdown",
   "id": "e63a62f8",
   "metadata": {},
   "source": [
    "__6**.__ Найти все корни уравнения:\n",
    "    \n",
    "### $$f(x)=g(x)$$\n",
    "\n",
    "на участке $[0, 20]$\n",
    "\n",
    "Где $y_{1}=f(x)$ и $y_{2}=g(x)$ - функции из предыдущего решения."
   ]
  },
  {
   "cell_type": "markdown",
   "id": "6d067013",
   "metadata": {},
   "source": [
    "**Решение**"
   ]
  },
  {
   "cell_type": "markdown",
   "id": "686f4b9b",
   "metadata": {},
   "source": [
    "Не успел."
   ]
  },
  {
   "cell_type": "markdown",
   "id": "9d8ad6e0",
   "metadata": {},
   "source": [
    "---"
   ]
  }
 ],
 "metadata": {
  "kernelspec": {
   "display_name": "Python 3 (ipykernel)",
   "language": "python",
   "name": "python3"
  },
  "language_info": {
   "codemirror_mode": {
    "name": "ipython",
    "version": 3
   },
   "file_extension": ".py",
   "mimetype": "text/x-python",
   "name": "python",
   "nbconvert_exporter": "python",
   "pygments_lexer": "ipython3",
   "version": "3.8.8"
  }
 },
 "nbformat": 4,
 "nbformat_minor": 5
}
