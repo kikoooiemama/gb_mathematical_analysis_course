{
 "cells": [
  {
   "cell_type": "markdown",
   "id": "8c62c2d9",
   "metadata": {},
   "source": [
    "## Практическое задание №4 по теме \"Функция. Предел функции\""
   ]
  },
  {
   "cell_type": "markdown",
   "id": "648832c4",
   "metadata": {},
   "source": [
    "__1.__ Найти предел функции:\n",
    "\n",
    "### $$а)\\,\\,\\,\\,\\lim_{x\\to 6} \\frac{x^2-36}{x^2-x-30}$$\n",
    "\n",
    "### $$б)\\,\\,\\,\\,\\lim_{x\\to 7} \\frac{x^2-49}{x^2-13x+42}$$\n",
    "\n",
    "### $$в^*)\\,\\,\\,\\,\\lim_{x\\to 7} \\frac{\\sqrt{x+2}-\\sqrt[3]{x+20}}{\\sqrt[4]{x+9}-2}$$\n",
    "\n",
    "### $$г)\\,\\,\\,\\,\\lim_{x\\to 0} \\frac{3x\\,\\mbox{tg}\\,4x}{1-\\cos4x}$$\n",
    "\n",
    "### $$д^{**})\\,\\,\\,\\,\\lim_{x\\to 0} \\frac{\\sqrt2x^2\\sin4x}{(1-\\cos2x)^{\\frac{3}{2}}}$$\n",
    "\n",
    "### $$е)\\,\\,\\,\\,\\lim_{x\\to \\infty} \\Bigr(\\frac{4x}{4x+3}\\Bigl)^\\frac{5x^2}{7x-1}$$\n",
    "\n",
    "### $$ж^*)\\,\\,\\,\\,\\lim_{x\\to +0} \\frac{5^x-1}{x}$$\n",
    "\n",
    "### $$з^*)\\,\\,\\,\\,\\lim_{x\\to +\\infty} \\frac{\\ln(x^2-x+1)}{\\ln(x^{10}+x+1)}$$"
   ]
  },
  {
   "cell_type": "markdown",
   "id": "127ad782",
   "metadata": {},
   "source": [
    "**Решение**"
   ]
  },
  {
   "cell_type": "markdown",
   "id": "9727c94d",
   "metadata": {},
   "source": [
    "**а)**\n",
    "\n",
    "$$\\lim_{x\\to 6} \\frac{x^2-36}{x^2-x-30} = \\lim_{x\\to 6} \\frac{(x-6)(x+6)}{(x-6)(x+5)}= \\lim_{x\\to 6} \\frac{x+6}{x+5} = \\frac{12}{11}$$"
   ]
  },
  {
   "cell_type": "markdown",
   "id": "785e785e",
   "metadata": {},
   "source": [
    "**б)**\n",
    "\n",
    "$$\\lim_{x\\to 7} \\frac{x^2-49}{x^2-13x+42} = \\lim_{x\\to 7} \\frac{(x-7)(x+7)}{(x-7)(x-6)} = \\lim_{x\\to 7} \\frac{x+7}{x-6}=\\frac{14}{1}=14$$"
   ]
  },
  {
   "cell_type": "markdown",
   "id": "c1cfd0f4",
   "metadata": {},
   "source": [
    "**в)**\n",
    "\n",
    "$$\\lim_{x\\to 7} \\frac{\\sqrt{x+2}-\\sqrt[3]{x+20}}{\\sqrt[4]{x+9}-2} = \\lim_{x\\to 7} \\frac{\\sqrt{x+2}-\\sqrt[3]{x+20}}{\\sqrt[4]{x+9}-2}\\cdot\\frac{\\sqrt{x+2}+\\sqrt[3]{x+20}}{\\sqrt{x+2}+\\sqrt[3]{x+20}} = $$\n",
    "\n",
    "$$=\\lim_{x\\to 7} \\frac{x+2-\\sqrt[3]{(x+20)^2}}{\\sqrt[4]{x+9}-2}\\cdot\\frac{1}{\\sqrt{x+2}+\\sqrt[3]{x+20}}\\cdot\\frac{\\sqrt[4]{x+9}+2}{\\sqrt[4]{x+9}+2} = $$\n",
    "\n",
    "\n",
    "$$=\\lim_{x\\to 7} \\frac{x+2-\\sqrt[3]{(x+20)^2}}{\\sqrt{x+9}-4}\\cdot\\frac{\\sqrt[4]{x+9}+2}{\\sqrt{x+2}+\\sqrt[3]{x+20}}= \\lim_{x\\to 7} \\frac{x+2-\\sqrt[3]{(x+20)^2}}{\\sqrt{x+9}-4}\\cdot\\frac{4}{6}=$$\n",
    "\n",
    "$$=\\lim_{x\\to 7} \\frac{x+2-\\sqrt[3]{(x+20)^2}}{\\sqrt{x+9}-4}\\cdot\\frac{2}{3}\\cdot\\frac{\\sqrt{x+9}+4}{\\sqrt{x+9}+4}=\\lim_{x\\to 7} \\frac{x+2-\\sqrt[3]{(x+20)^2}}{x+9-16}\\cdot\\frac{2}{3}\\cdot\\frac{\\sqrt{x+9}+4}{1} = $$\n",
    "\n",
    "\n",
    "$$=\\lim_{x\\to 7} \\frac{x+2-\\sqrt[3]{(x+20)^2}}{x+9-16}\\cdot\\frac{2}{3}\\cdot\\frac{\\sqrt{x+9}+4}{1}\\cdot \\frac{(x+2)^2+(x+2)\\sqrt[3]{(x+20)^2}+\\sqrt[3]{(x+20)^4}}{(x+2)^2+(x+2)\\sqrt[3]{(x+20)^2}+\\sqrt[3]{(x+20)^4}}= $$\n",
    "\n",
    "$$=\\lim_{x\\to 7} \\frac{(x+2)^3-(x+20)^2}{x-7}\\cdot\\frac{2}{3}\\cdot\\frac{\\sqrt{x+9}+4}{(x+2)^2+(x+2)\\sqrt[3]{(x+20)^2}+\\sqrt[3]{(x+20)^4}} = $$\n",
    "\n",
    "$$=\\lim_{x\\to 7} \\frac{(x+2)^3-(x+20)^2}{x-7}\\cdot\\frac{2}{3}\\cdot\\frac{8}{81+81+81} = \\frac{189}{1}\\cdot\\frac{2\\cdot8}{3\\cdot243} = \\frac{112}{27}$$"
   ]
  },
  {
   "cell_type": "markdown",
   "id": "8665eea7",
   "metadata": {},
   "source": [
    "**г)**\n",
    "\n",
    "$$\\lim_{x\\to 0} \\frac{3x\\,\\mbox{tg}\\,4x}{1-\\cos4x} =\\lim_{x\\to 0} \\frac{3x\\cdot4x}{\\frac{16x^2}{2}}=\\frac{12}{8}=\\frac{3}{2}$$"
   ]
  },
  {
   "cell_type": "markdown",
   "id": "ff1f8954",
   "metadata": {},
   "source": [
    "**д)**\n",
    "\n",
    "$$\\lim_{x\\to 0} \\frac{\\sqrt2x^2\\sin4x}{(1-\\cos2x)^{\\frac{3}{2}}} = \\lim_{x\\to 0} \\frac{\\sqrt2x^2\\cdot4x}{\\Bigl(\\frac{4x^2}{2}\\Bigr)^{\\frac{3}{2}}}= \\lim_{x\\to 0} \\frac{\\sqrt2x^2\\cdot4x}{\\sqrt{8}x^3}=\\frac{\\sqrt2\\cdot4}{\\sqrt{8}} = 2$$"
   ]
  },
  {
   "cell_type": "markdown",
   "id": "3e616916",
   "metadata": {},
   "source": [
    "**е)**\n",
    "\n",
    "$$\\lim_{x\\to \\infty} \\Bigr(\\frac{4x}{4x+3}\\Bigl)^\\frac{5x^2}{7x-1} =\\lim_{x\\to \\infty} e^{ \\Bigr(\\frac{4x}{4x+3}-1\\Bigl)\\cdot\\frac{5x^2}{7x-1}}=\\lim_{x\\to \\infty} e^{ \\frac{-3}{4x+3}\\cdot\\frac{5x^2}{7x-1}}=e^{\\frac{-3\\cdot5}{4\\cdot7}}=e^{-\\frac{15}{28}}$$"
   ]
  },
  {
   "cell_type": "markdown",
   "id": "9ebe9c4f",
   "metadata": {},
   "source": [
    "**ж)**\n",
    "\n",
    "$$\\lim_{x\\to +0} \\frac{5^x-1}{x} = \\lim_{x\\to +0} \\frac{e^{x\\ln5}-1}{x}= \\lim_{x\\to +0} \\frac{e^{x\\ln5}-1}{x} \\cdot \\frac{\\ln5}{\\ln5} = $$\n",
    "\n",
    "$$=\\lim_{x\\to +0} \\frac{\\ln5\\cdot(e^{x\\ln5}-1)}{x\\ln5} = \\ln5$$\n"
   ]
  },
  {
   "cell_type": "markdown",
   "id": "c8001ea7",
   "metadata": {},
   "source": [
    "**з)**\n",
    "\n",
    "$$\\lim_{x\\to +\\infty} \\frac{\\ln(x^2-x+1)}{\\ln(x^{10}+x+1)} = \\lim_{x\\to +\\infty} \\frac{\\ln(x^2(1-\\frac{1}{x}+\\frac{1}{x^2}))}{\\ln(x^{10}(1+\\frac{1}{x^9}+\\frac{1}{x^{10}}))}= \\lim_{x\\to +\\infty} \\frac{\\ln(x^2)+\\ln(1-\\frac{1}{x}+\\frac{1}{x^2})}{\\ln(x^{10})+\\ln(1+\\frac{1}{x^9}+\\frac{1}{x^{10}})}=$$\n",
    "\n",
    "$$ = \\lim_{x\\to +\\infty} \\frac{\\ln(x^2)}{\\ln(x^{10})} = \\lim_{x\\to +\\infty} \\frac{2\\cdot\\ln(x)}{10\\cdot\\ln(x)} = \\frac{2}{10} = \\frac{1}{5}$$"
   ]
  },
  {
   "cell_type": "markdown",
   "id": "eb72a80f",
   "metadata": {},
   "source": [
    "---"
   ]
  },
  {
   "cell_type": "markdown",
   "id": "a24fee5c",
   "metadata": {},
   "source": [
    "__2*.__ На языке Python предложить алгоритм вычисляющий численно предел последовательности\n",
    "\n",
    "### $$\\lim_{n\\to +\\infty} \\frac{n}{\\sqrt[n]{n!}}$$"
   ]
  },
  {
   "cell_type": "code",
   "execution_count": 17,
   "id": "f032896c",
   "metadata": {},
   "outputs": [
    {
     "name": "stdout",
     "output_type": "stream",
     "text": [
      "2.618690898433316\n"
     ]
    }
   ],
   "source": [
    "import numpy as np\n",
    "import math\n",
    "from decimal import Decimal\n",
    "\n",
    "acc = 0.001\n",
    "n = 2\n",
    "old = 0\n",
    "\n",
    "while True:\n",
    "    f = math.factorial(n)\n",
    "    res = n / f**(1 / n)\n",
    "    if abs(res-old)<acc:\n",
    "        break\n",
    "    old = res\n",
    "    n+=1\n",
    "    \n",
    "print(res)"
   ]
  },
  {
   "cell_type": "markdown",
   "id": "ee9997d9",
   "metadata": {},
   "source": [
    "---"
   ]
  }
 ],
 "metadata": {
  "kernelspec": {
   "display_name": "Python 3 (ipykernel)",
   "language": "python",
   "name": "python3"
  },
  "language_info": {
   "codemirror_mode": {
    "name": "ipython",
    "version": 3
   },
   "file_extension": ".py",
   "mimetype": "text/x-python",
   "name": "python",
   "nbconvert_exporter": "python",
   "pygments_lexer": "ipython3",
   "version": "3.8.8"
  }
 },
 "nbformat": 4,
 "nbformat_minor": 5
}
