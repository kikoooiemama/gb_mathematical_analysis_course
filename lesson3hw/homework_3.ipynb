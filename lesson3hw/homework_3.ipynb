{
 "cells": [
  {
   "cell_type": "markdown",
   "id": "56f1a9a6",
   "metadata": {},
   "source": [
    "## Практическое задание №3 по теме \"Предел последовательности\""
   ]
  },
  {
   "cell_type": "markdown",
   "id": "231ca372",
   "metadata": {},
   "source": [
    "__1.__ Найти предел последовательности:\n",
    "\n",
    "### $$а)\\,\\,\\,\\,\\lim_{n\\to \\infty} \\frac{(23-2n^2)(3n^2+17)^2}{4n^6+n-1}$$\n",
    "\n",
    "### $$б)\\,\\,\\,\\,\\lim_{n\\to \\infty} \\frac{(97-2n)^3}{2n(3n^2+15)+8n}$$\n",
    "\n",
    "### $$в)\\,\\,\\,\\,\\lim_{n\\to \\infty} \\frac{2n^3+13n(n+18)}{(27-n)(2n+19)^2}$$\n",
    "\n",
    "### $$г)\\,\\,\\,\\,\\lim_{n\\to \\infty} (\\sqrt{n^2+1}-n)$$\n",
    "\n",
    "### $$д)\\,\\,\\,\\,\\lim_{n\\to \\infty} \\frac{(-4)^n+5\\cdot7^n}{(-4)^{n-1}+7^{n+2}}$$\n",
    "\n",
    "### $$e)^*\\,\\,\\,\\,\\lim_{n\\to \\infty} \\Bigl(\\frac{1}{1\\cdot2}+\\frac{1}{2\\cdot3}+\\frac{1}{3\\cdot4}+...+\\frac{1}{(n-1)\\cdot n}\\Bigr)$$"
   ]
  },
  {
   "cell_type": "markdown",
   "id": "3d10dc69",
   "metadata": {},
   "source": [
    "**Решение:**\n",
    "\n",
    "**а)**\n",
    "\n",
    "$$\\lim_{n\\to \\infty} \\frac{(23-2n^2)(3n^2+17)^2}{4n^6+n-1} = \\lim_{n\\to \\infty} \\frac{n^6(\\frac{23}{n^2}-2)(3+\\frac{17}{n^2})^2}{n^6(4+\\frac{1}{n^5}-\\frac{1}{n^6})} = $$\n",
    "\n",
    "$$ = \\frac{-2\\cdot3^2}{4} = -\\frac{9}{2}$$"
   ]
  },
  {
   "cell_type": "markdown",
   "id": "7b3cb747",
   "metadata": {},
   "source": [
    "**б)**\n",
    "\n",
    "$$\\lim_{n\\to \\infty} \\frac{(97-2n)^3}{2n(3n^2+15)+8n} =\\lim_{n\\to \\infty} \\frac{n^3(\\frac{97}{n}-2)^3}{n^3(6+\\frac{16}{n}+\\frac{30}{n^2})} = \\frac{(-2)^3}{6} = -\\frac{4}{3}$$"
   ]
  },
  {
   "cell_type": "markdown",
   "id": "c36e3842",
   "metadata": {},
   "source": [
    "**в)**\n",
    "\n",
    "$$\\lim_{n\\to \\infty} \\frac{2n^3+13n(n+18)}{(27-n)(2n+19)^2} = \\lim_{n\\to \\infty} \\frac{2n^3+13n^2+234n}{n^3(\\frac{27}{n}-1)(2+\\frac{19}{n})^2} = $$\n",
    "\n",
    "$$= \\lim_{n\\to \\infty} \\frac{n^3(2+\\frac{13}{n}+\\frac{234}{n^2})}{n^3(\\frac{27}{n}-1)(2+\\frac{19}{n})^2} = \\frac{2}{(-1)\\cdot2^2} = -\\frac{1}{2}$$"
   ]
  },
  {
   "cell_type": "markdown",
   "id": "5eb8b685",
   "metadata": {},
   "source": [
    "\n",
    "\n",
    "**г)**\n",
    "\n",
    "$$\\lim_{n\\to \\infty} (\\sqrt{n^2+1}-n) = \\lim_{n\\to \\infty} (\\sqrt{n^2+1}-n)\\cdot\\frac{\\sqrt{n^2+1}+n}{\\sqrt{n^2+1}+n} = $$\n",
    "\n",
    "$$ = \\lim_{n\\to \\infty} \\frac{n^2 + 1 - n^2}{\\sqrt{n^2+1}+n} = \\lim_{n\\to \\infty} \\frac{1}{\\sqrt{n^2+1}+n} = 0$$\n",
    "\n"
   ]
  },
  {
   "cell_type": "markdown",
   "id": "d55404d0",
   "metadata": {},
   "source": [
    "**д)**\n",
    "\n",
    "$$\\lim_{n\\to \\infty} \\frac{(-4)^n+5\\cdot7^n}{(-4)^{n-1}+7^{n+2}} = \\lim_{n\\to \\infty} \\frac{(-4)^n (1+5\\cdot(-\\frac{7}{4})^{n})}{(-4)^{n}(-\\frac{1}{4}+49\\cdot(-\\frac{7}{4})^{n})} = $$\n",
    "\n",
    "$$= \\lim_{n\\to \\infty} \\frac{(-\\frac{7}{4})^{n} ((-\\frac{7}{4})^{-n}+5)}{(-\\frac{7}{4})^{n}(-\\frac{1}{4}\\cdot(-\\frac{7}{4})^{-n}+49)} = \\lim_{n\\to \\infty} \\frac{(-\\frac{4}{7})^{n}+5}{-\\frac{1}{4}\\cdot(-\\frac{4}{7})^{n}+49} = \\frac{5}{49}$$"
   ]
  },
  {
   "cell_type": "markdown",
   "id": "cfc9a78b",
   "metadata": {},
   "source": [
    "**e)**\n",
    "\n",
    "$$\\lim_{n\\to \\infty} \\Bigl(\\frac{1}{1\\cdot2}+\\frac{1}{2\\cdot3}+\\frac{1}{3\\cdot4}+...+\\frac{1}{(n-1)\\cdot n}\\Bigr) = \\lim_{n\\to \\infty} \\Bigl(1-\\frac{1}{n+1} \\Bigr)=1$$\n",
    "\n",
    "$\\Bigl(\\frac{1}{1\\cdot2}+\\frac{1}{2\\cdot3}+\\frac{1}{3\\cdot4}+...+\\frac{1}{(n-1)\\cdot n}\\Bigr) = \\displaystyle\\sum_{n=1}^{\\infty} \\frac{1}{n\\cdot(n+1)}$\n",
    "\n",
    "$\\displaystyle\\sum_{n=1}^{\\infty} \\frac{1}{n\\cdot(n+1)} = \\displaystyle\\sum_{n=1}^{\\infty} (\\frac{1}{n} - \\frac{1}{n+1}) = (1 - \\frac{1}{2}) + (\\frac{1}{2}-\\frac{1}{3}) + (\\frac{1}{3}-\\frac{1}{4}) + (\\frac{1}{4}-\\frac{1}{5}) \\,+ ... + \\,(\\frac{1}{n-1}-\\frac{1}{n}) + (\\frac{1}{n}-\\frac{1}{n+1}) = 1-\\frac{1}{n+1}$"
   ]
  },
  {
   "cell_type": "markdown",
   "id": "d2082b69",
   "metadata": {},
   "source": [
    "---"
   ]
  },
  {
   "cell_type": "markdown",
   "id": "ee66aed8",
   "metadata": {},
   "source": [
    "__2.__ Представьте $1$ в виде суммы трех обыкновенных дробей с разными знаменателями и числителем равным $1$."
   ]
  },
  {
   "cell_type": "markdown",
   "id": "bf66662b",
   "metadata": {},
   "source": [
    "Ответ: $\\frac{1}{2}$, $\\frac{1}{3}$, $\\frac{1}{6}$"
   ]
  },
  {
   "cell_type": "code",
   "execution_count": 1,
   "id": "6f3fd572",
   "metadata": {},
   "outputs": [
    {
     "data": {
      "text/plain": [
       "0.9999999999999999"
      ]
     },
     "execution_count": 1,
     "metadata": {},
     "output_type": "execute_result"
    }
   ],
   "source": [
    "1/2+1/3+1/6"
   ]
  },
  {
   "cell_type": "markdown",
   "id": "1d940bf2",
   "metadata": {},
   "source": [
    "__3$^*$.__ Тоже задание, только в виде суммы шести дробей."
   ]
  },
  {
   "cell_type": "markdown",
   "id": "82fcd257",
   "metadata": {},
   "source": [
    "Ответ: $\\frac{1}{2}$, $\\frac{1}{4}$, $\\frac{1}{6}$, $\\frac{1}{24}$, $\\frac{1}{36}$,  $\\frac{1}{72}$"
   ]
  },
  {
   "cell_type": "code",
   "execution_count": 2,
   "id": "3f73c9f0",
   "metadata": {},
   "outputs": [
    {
     "data": {
      "text/plain": [
       "0.9999999999999999"
      ]
     },
     "execution_count": 2,
     "metadata": {},
     "output_type": "execute_result"
    }
   ],
   "source": [
    "1/2+1/4+1/6+1/24+1/36+1/72"
   ]
  },
  {
   "cell_type": "markdown",
   "id": "5e630906",
   "metadata": {},
   "source": [
    "Вывод последовательности дробей для любого $N$:\n",
    "\n",
    "Пусть $N$ - количество дробей в виде суммы которых нужно представить число $1$.\n",
    "\n",
    "В виде 3 дробей: $\\frac{1}{2}$, $\\frac{1}{3}$, $\\frac{1}{6}$\n",
    "\n",
    "В виде 4 дробей: $\\frac{1}{2}$, $\\frac{1}{4}$, $\\frac{1}{6}$, $\\frac{1}{12}$\n",
    "\n",
    "В виде 5 дробей: $\\frac{1}{2}$, $\\frac{1}{3}$, $\\frac{1}{12}$, $\\frac{1}{18}$, $\\frac{1}{36}$\n",
    "\n",
    "В виде 6 дробей: $\\frac{1}{2}$, $\\frac{1}{4}$, $\\frac{1}{6}$, $\\frac{1}{24}$, $\\frac{1}{36}$, $\\frac{1}{72}$\n",
    "\n",
    "В виде 7 дробей: $\\frac{1}{2}$, $\\frac{1}{3}$, $\\frac{1}{12}$, $\\frac{1}{18}$, $\\frac{1}{72}$, $\\frac{1}{108}$, $\\frac{1}{216}$\n",
    "\n",
    "**Для нечетных $N$**\n",
    "\n",
    "Разобъем слагаемые на группы:\n",
    "\n",
    "В виде 3 дробей: $(\\frac{1}{2} + \\frac{1}{3}) + \\frac{1}{6}$\n",
    "\n",
    "В виде 5 дробей: $(\\frac{1}{2} + \\frac{1}{3}) + (\\frac{1}{2\\cdot6} + \\frac{1}{3\\cdot6}) + \\frac{1}{6^2}$\n",
    "\n",
    "В виде 7 дробей: $(\\frac{1}{2} + \\frac{1}{3}) + (\\frac{1}{2\\cdot6} + \\frac{1}{3\\cdot6}) + (\\frac{1}{2\\cdot6^2} + \\frac{1}{2\\cdot6^2}) + \\frac{1}{6^3}$\n",
    "\n",
    "На основе закономерности формируем общую формулу последовательности для $нечетных N$:\n",
    "\n",
    "$$6^{-m-1} + \\displaystyle\\sum_{k=0}^{m} (\\frac{1}{2} + \\frac{1}{3})\\cdot6^{-k},$$  \n",
    "\n",
    "$$где \\,\\, m = \\frac{N-3}{2}$$\n",
    "\n",
    "\n",
    "**Для четных $N$**\n",
    "\n",
    "По аналогии с нечетными разобъем слагаемые:\n",
    "\n",
    "В виде 4 дробей: $\\frac{1}{2}(1+\\frac{1}{6}+ (\\frac{1}{2} + \\frac{1}{3}))$\n",
    "\n",
    "В виде 6 дробей: $\\frac{1}{2}(1+\\frac{1}{6^2}+ (\\frac{1}{2} + \\frac{1}{3})+(\\frac{1}{2\\cdot6} + \\frac{1}{3\\cdot6}))$\n",
    "\n",
    "На основе закономерности формируем общую формулу последовательности для $четных N$:\n",
    "\n",
    "$$\\frac{1}{2}\\cdot(1+ 6^{-m-1} + \\displaystyle\\sum_{k=0}^{m} (\\frac{1}{2} + \\frac{1}{3})\\cdot6^{-k}),$$  \n",
    "\n",
    "$$где \\,\\, m = \\frac{N}{2} - 2$$"
   ]
  },
  {
   "cell_type": "code",
   "execution_count": 3,
   "id": "b3fb2484",
   "metadata": {},
   "outputs": [
    {
     "name": "stdout",
     "output_type": "stream",
     "text": [
      "0.5\n",
      "0.3333333333333333\n",
      "0.08333333333333333\n",
      "0.05555555555555555\n",
      "0.013888888888888888\n",
      "0.009259259259259259\n",
      "0.0023148148148148147\n",
      "0.0015432098765432098\n",
      "0.00038580246913580245\n",
      "0.00025720164609053495\n",
      "0.0001286008230452675\n"
     ]
    },
    {
     "data": {
      "text/plain": [
       "0.9999999999999998"
      ]
     },
     "execution_count": 3,
     "metadata": {},
     "output_type": "execute_result"
    }
   ],
   "source": [
    "# В виде 11\n",
    "N = 11\n",
    "\n",
    "m = int((N - 3)/2)\n",
    "sum_m = 0\n",
    "for i in range(m+1):\n",
    "    sum_m += ((1/2+1/3)*(6**(-i)))\n",
    "    print(1/2*(6**(-i)))\n",
    "    print(1/3*(6**(-i)))\n",
    "add_m = 6**(-m-1)\n",
    "print(add_m)\n",
    "sum_m + add_m"
   ]
  },
  {
   "cell_type": "code",
   "execution_count": 4,
   "id": "2e4350f0",
   "metadata": {
    "scrolled": true
   },
   "outputs": [
    {
     "name": "stdout",
     "output_type": "stream",
     "text": [
      "0.5\n",
      "0.25\n",
      "0.16666666666666666\n",
      "0.041666666666666664\n",
      "0.027777777777777776\n",
      "0.006944444444444444\n",
      "0.004629629629629629\n",
      "0.0011574074074074073\n",
      "0.0007716049382716049\n",
      "0.00019290123456790122\n",
      "0.00012860082304526747\n",
      "3.2150205761316875e-05\n",
      "2.1433470507544583e-05\n",
      "5.358367626886145e-06\n",
      "3.572245084590763e-06\n",
      "1.7861225422953817e-06\n"
     ]
    },
    {
     "data": {
      "text/plain": [
       "0.9999999999999999"
      ]
     },
     "execution_count": 4,
     "metadata": {},
     "output_type": "execute_result"
    }
   ],
   "source": [
    "# В виде 16\n",
    "N = 16\n",
    "\n",
    "half_m = 0.5\n",
    "print(half_m)\n",
    "m = int(N /2-2)\n",
    "sum_m = 0\n",
    "for i in range(m+1):\n",
    "    sum_m += 0.5*((1/2+1/3)*(6**(-i)))\n",
    "    print(1/4*(6**(-i)))\n",
    "    print(1/6*(6**(-i)))\n",
    "add_m = 0.5*(6**(-m-1))\n",
    "print(add_m)\n",
    "sum_m + add_m + half_m"
   ]
  },
  {
   "cell_type": "markdown",
   "id": "f2de61bb",
   "metadata": {},
   "source": [
    "---"
   ]
  },
  {
   "cell_type": "markdown",
   "id": "6c52995d",
   "metadata": {},
   "source": [
    "__4.__ Пользуясь критерием Коши, докажите сходимость последовательности:\n",
    "\n",
    "### $$a_n=\\frac{\\sin1}{2}+\\frac{\\sin2}{2^2}+\\frac{\\sin3}{2^3}+..\\frac{\\sin n}{2^n}\\,\\,\\,\\,\\,\\Rightarrow$$\n",
    "\n",
    "### $$\\Bigl\\{a_n\\Bigr\\}_{n=1}^\\infty=\\Bigl\\{\\frac{\\sin1}{2}, \\frac{\\sin1}{2}+\\frac{\\sin2}{2^2}, ..., a_n,...\\Bigr\\}$$\n",
    "\n",
    "\n",
    "$^*$ Какой член последовательности можно взять в качестве предела с точностью $\\varepsilon=10^{-7}$?"
   ]
  },
  {
   "cell_type": "markdown",
   "id": "ff81e4ed",
   "metadata": {},
   "source": [
    "**Решение**\n",
    "\n",
    "\n",
    "### $a_n=\\frac{\\sin1}{2}+\\frac{\\sin2}{2^2}+\\frac{\\sin3}{2^3}+..\\frac{\\sin n}{2^n}\\,\\,\\,\\,\\,\\Rightarrow$\n",
    "\n",
    "### $\\Bigl\\{a_n\\Bigr\\}_{n=1}^\\infty=\\Bigl\\{\\frac{\\sin1}{2}, \\frac{\\sin1}{2}+\\frac{\\sin2}{2^2}, ..., a_n,...\\Bigr\\}$\n",
    "\n",
    "Критерий сходимости Коши: \n",
    "\n",
    "$\\forall\\varepsilon>0\\,\\,\\,\\exists N(\\varepsilon), \\,\\,\\,\\forall n>N(\\varepsilon)\\,\\,\\,\\forall k\\geq1:|a_n-a_{n+k}|<\\varepsilon$\n",
    "\n",
    "Заметим, что $|\\sin n | \\leq 1$\n",
    "\n",
    "\n",
    "$$|a_n-a_{n+k}|=\\Bigl| \\frac{\\sin 1}{2} + \\frac{\\sin 2}{2^2} + ... + \\frac{\\sin n}{2^n}  - \\Bigl(\\frac{\\sin 1}{2} + \\frac{\\sin 2}{2^2} + ... + \\frac{\\sin n}{2^n} + \\frac{\\sin (n+1)}{2^{(n+1)}} + ... + \\frac{\\sin (n+k)}{2^{(n+k)}}\\Bigr) \\Bigr|=$$\n",
    "\n",
    "$$\\Bigl| -  \\frac{\\sin (n+1)}{2^{(n+1)}} - ... - \\frac{\\sin (n+k)}{2^{(n+k)}} \\Bigr| = \\Bigl| \\frac{\\sin (n+1)}{2^{(n+1)}} + ... + \\frac{\\sin (n+k)}{2^{(n+k)}} \\Bigr| < \\frac{1}{2^{n+1}} + ... +\\frac{1}{2^{n+k}} = $$\n",
    "\n",
    "$$= \\frac{1}{2^n}\\Bigl(\\frac{1}{2} + \\frac{1}{2^2} + ... + \\frac{1}{2^k}\\Bigr) = \\frac{1}{2^n}\\Bigl(1-\\Bigl(\\frac{1}{2}\\Bigr)^{k}\\Bigr)<\\frac{1}{2^n}<\\frac{1}{2^{N(\\varepsilon)}}=\\varepsilon$$\n",
    "\n",
    "$Q.E.D.$\n",
    "\n",
    "$N(\\varepsilon)=-\\log_2 \\varepsilon$"
   ]
  },
  {
   "cell_type": "markdown",
   "id": "0e41a49a",
   "metadata": {},
   "source": [
    "$^*$ Какой член последовательности можно взять в качестве предела с точностью $\\varepsilon=10^{-7}$?\n",
    "\n",
    "24-ый член последовательности."
   ]
  },
  {
   "cell_type": "code",
   "execution_count": 5,
   "id": "e1d79041",
   "metadata": {},
   "outputs": [
    {
     "name": "stdout",
     "output_type": "stream",
     "text": [
      "eps=1e-07 N=23.25349666421154\n",
      "a_24=5.960464477539063e-08\n"
     ]
    }
   ],
   "source": [
    "import math\n",
    "eps = 10**(-7)\n",
    "N = -math.log(eps,2)\n",
    "\n",
    "print (f'eps={eps}', f'N={N}')\n",
    "\n",
    "n = int(N+1)\n",
    "\n",
    "print (f'a_{n}={1/2**n}')"
   ]
  },
  {
   "cell_type": "markdown",
   "id": "dbfb2963",
   "metadata": {},
   "source": [
    "---"
   ]
  },
  {
   "cell_type": "markdown",
   "id": "afd3137d",
   "metadata": {},
   "source": [
    "__5$^*$.__  Пользуясь критерием Коши, докажите расходимость последовательности:\n",
    "\n",
    "### $$b_n=1+\\frac{1}{2}+\\frac{1}{3}+..\\frac{1}{n}\\,\\,\\,\\,\\,\\Rightarrow$$\n",
    "\n",
    "### $$\\Bigl\\{b_n\\Bigr\\}_{n=1}^\\infty=\\Bigl\\{1, 1+\\frac{1}{2},1+\\frac{1}{2}+\\frac{1}{3}, ..., b_n,...\\Bigr\\}$$"
   ]
  },
  {
   "cell_type": "markdown",
   "id": "9e971d8b",
   "metadata": {},
   "source": [
    "**Решение**\n",
    "\n",
    "$b_n=1+\\frac{1}{2}+\\frac{1}{3}+..\\frac{1}{n}\\,\\,\\,\\,\\,\\Rightarrow$\n",
    "\n",
    "$\\Bigl\\{b_n\\Bigr\\}_{n=1}^\\infty=\\Bigl\\{1, 1+\\frac{1}{2},1+\\frac{1}{2}+\\frac{1}{3}, ..., b_n,...\\Bigr\\}$\n",
    "\n",
    "Критерий расходимости Коши:\n",
    "\n",
    "$\\exists\\varepsilon>0\\,\\,\\,\\forall N(\\varepsilon), \\,\\,\\,\\exists n>N(\\varepsilon)\\,\\,\\,\\exists k\\geq1:|b_n-b_{n+k}|\\geq\\varepsilon$\n",
    "\n",
    "Попробуем отыскать такой $\\varepsilon>0$. \n",
    "\n",
    "Рассмотрим случай $k = n$, тогда:\n",
    "\n",
    "$$|b_{n+k}-b_n{}|=\\Bigl| (1+\\frac{1}{2}+...+\\frac{1}{2n}) - (1+\\frac{1}{2}+...+\\frac{1}{2}) \\Bigr| = \\frac{1}{n+1} + \\frac{1}{n+2} + ... +\\frac{1}{2n} \\geq n\\cdot\\frac{1}{2n} = \\frac{1}{2}  $$\n",
    "\n",
    "$$|b_{n+k}-b_n{}| \\geq \\frac{1}{2} = \\varepsilon$$"
   ]
  },
  {
   "cell_type": "markdown",
   "id": "4b3a9070",
   "metadata": {},
   "source": [
    "---"
   ]
  }
 ],
 "metadata": {
  "kernelspec": {
   "display_name": "Python 3 (ipykernel)",
   "language": "python",
   "name": "python3"
  },
  "language_info": {
   "codemirror_mode": {
    "name": "ipython",
    "version": 3
   },
   "file_extension": ".py",
   "mimetype": "text/x-python",
   "name": "python",
   "nbconvert_exporter": "python",
   "pygments_lexer": "ipython3",
   "version": "3.8.8"
  }
 },
 "nbformat": 4,
 "nbformat_minor": 5
}
