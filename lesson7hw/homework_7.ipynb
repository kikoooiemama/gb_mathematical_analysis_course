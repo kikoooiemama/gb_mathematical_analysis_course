{
 "cells": [
  {
   "cell_type": "markdown",
   "id": "acb93ad2",
   "metadata": {},
   "source": [
    "## Практическое задание №7 по теме \"Производная функции нескольких переменных. Часть 1\""
   ]
  },
  {
   "cell_type": "markdown",
   "id": "b7a10f89",
   "metadata": {},
   "source": [
    "__1.__ Найти частные производные первого и второго порядка. Убедиться в равенстве смешанных производных.\n",
    "\n",
    "### $$U=x^3+3xy^2+z^2-39x-36y+2z+26$$"
   ]
  },
  {
   "cell_type": "markdown",
   "id": "4e23cf13",
   "metadata": {},
   "source": [
    "**Решение**"
   ]
  },
  {
   "cell_type": "markdown",
   "id": "cedddf93",
   "metadata": {},
   "source": [
    "Производные первого порядка:\n",
    "\n",
    "$$U'_{x}=3x^2+3y^2-39$$\n",
    "\n",
    "$$U'_{y}=6xy-36$$\n",
    "\n",
    "$$U'_{z}=2z+2$$\n",
    "\n",
    "Производные второго порядка:\n",
    "\n",
    "$$U''_{xx}=6x$$\n",
    "\n",
    "$$U''_{yy} = 6x$$\n",
    "\n",
    "$$U''_{zz} = 2$$\n",
    "\n",
    "\n",
    "Смешанные производные:\n",
    "\n",
    "$$U''_{xy}=6y$$\n",
    "\n",
    "$$U''_{yx}=6y$$\n",
    "\n",
    "$$U''_{xz}=0$$\n",
    "\n",
    "$$U''_{zx}=0$$\n",
    "\n",
    "$$U''_{yz}=0$$\n",
    "\n",
    "$$U''_{zy}=0$$"
   ]
  },
  {
   "cell_type": "markdown",
   "id": "7eac41a8",
   "metadata": {},
   "source": [
    "---"
   ]
  },
  {
   "cell_type": "markdown",
   "id": "c2dff860",
   "metadata": {},
   "source": [
    "__2.__ Найти частные производные первого и второго порядка. Убедиться в равенстве смешанных производных.\n",
    "\n",
    "### $$U=\\frac{256}{x}+\\frac{x^2}{y}+\\frac{y^2}{z}+z^2$$"
   ]
  },
  {
   "cell_type": "markdown",
   "id": "fe0db957",
   "metadata": {},
   "source": [
    "**Решение**"
   ]
  },
  {
   "cell_type": "markdown",
   "id": "1c9cb750",
   "metadata": {},
   "source": [
    "Производные первого порядка:\n",
    "\n",
    "$$U'_{x}=-\\frac{256}{x^2}+\\frac{2x}{y}$$\n",
    "\n",
    "$$U'_{y}=-\\frac{x^2}{y^2}+\\frac{2y}{z}$$\n",
    "\n",
    "$$U'_{z}=-\\frac{y^2}{z^2}+2z$$\n",
    "\n",
    "Производные второго порядка:\n",
    "\n",
    "$$U''_{xx}=\\frac{512}{x^3}+\\frac{2}{y}$$\n",
    "\n",
    "$$U''_{yy}=\\frac{2x^2}{y^3}+\\frac{2}{z}$$\n",
    "\n",
    "$$U''_{zz}=\\frac{2y^2}{z^3}+2$$\n",
    "\n",
    "Смешанные производные:\n",
    "\n",
    "$$U''_{xy}=-\\frac{2x}{y^2}$$\n",
    "\n",
    "$$U''_{yx}=-\\frac{2x}{y^2}$$\n",
    "\n",
    "$$U''_{xz}=0$$\n",
    "\n",
    "$$U''_{zx}=0$$\n",
    "\n",
    "$$U''_{yz}=-\\frac{2y}{z^2}$$\n",
    "\n",
    "$$U''_{zy}=-\\frac{2y}{z^2}$$"
   ]
  },
  {
   "cell_type": "markdown",
   "id": "f16561e5",
   "metadata": {},
   "source": [
    "---"
   ]
  },
  {
   "cell_type": "markdown",
   "id": "f734e738",
   "metadata": {},
   "source": [
    "__3.__ Найти производную функции $U=x^2+y^2+z^2$ по направлению вектора $\\overrightarrow{c}(-9,8,-12)$ в точке $M(8,-12,9)$"
   ]
  },
  {
   "cell_type": "markdown",
   "id": "474b32b2",
   "metadata": {},
   "source": [
    "**Решение**"
   ]
  },
  {
   "cell_type": "markdown",
   "id": "c1118ca7",
   "metadata": {},
   "source": [
    "$$U'_{\\overrightarrow{c}} - ?$$\n",
    "\n",
    "$$U=x^2+y^2+z^2$$\n",
    "\n",
    "Найдем производную этой функции $U=x^2+y^2+z^2$ по направлению вектора $\\overrightarrow{c}(-9,8,-12)$ в точке $M(8,-12,9)$\n",
    "\n",
    "Найдем длину вектора $\\overrightarrow{c}$:\n",
    "\n",
    "$$|\\overrightarrow{c}|=\\sqrt{x^2_{0}+y^2_{0}+z^2_{0}}=\\sqrt{(-9)^2+8^2+(-12)^2}=\\sqrt{289}=17$$\n",
    "\n",
    "Запишем единичный вектор $\\overrightarrow{c}_{0}$:\n",
    "\n",
    "$$\\overrightarrow{c_{0}}=\\frac{\\overrightarrow{c}}{|\\overrightarrow{c}|}=\\Bigr(-\\frac{9}{17},\\frac{8}{17},-\\frac{12}{17}\\Bigl)$$\n",
    "\n",
    "Теперь найдем градиент в точке $M(8,-12,9)$.\n",
    "\n",
    "\n",
    "$$U'_{x}=2x$$\n",
    "\n",
    "$$U'_{y}=2y$$\n",
    "\n",
    "$$U'_{z}=2z$$\n",
    "\n",
    "$$\\mbox{grad}U=(16,-24,18)$$\n",
    "\n",
    "\n",
    "Осталось посчитать значение производной\n",
    "\n",
    "$$U'_{\\overrightarrow{c}} = (\\overrightarrow{c}_{0}\\cdot \\mbox{grad}U) = \\frac{-9\\cdot16 + 8\\cdot(-24) + 12\\cdot18}{17}=-\\frac{552}{17}$$"
   ]
  },
  {
   "cell_type": "markdown",
   "id": "162c0d0a",
   "metadata": {},
   "source": [
    "---"
   ]
  },
  {
   "cell_type": "markdown",
   "id": "1aea75d7",
   "metadata": {},
   "source": [
    "__4.__ Найти производную функции $U=e^{x^2+y^2+z^2}$ по направлению вектора $\\overrightarrow{c}(4,-13,-16)$ в точке $L(-16,4,-13)$"
   ]
  },
  {
   "cell_type": "markdown",
   "id": "f0adf2f6",
   "metadata": {},
   "source": [
    "**Решение**"
   ]
  },
  {
   "cell_type": "markdown",
   "id": "dcb632d7",
   "metadata": {},
   "source": [
    "$$U'_{\\overrightarrow{c}} - ?$$\n",
    "\n",
    "$$U=e^{x^2+y^2+z^2}$$\n",
    "\n",
    "Найдем производную этой функции $U=e^{x^2+y^2+z^2}$ по направлению вектора $\\overrightarrow{c}(4,-13,-16)$ в точке $L(-16,4,-13)$\n",
    "\n",
    "Найдем длину вектора $\\overrightarrow{c}$:\n",
    "\n",
    "$$|\\overrightarrow{c}|=\\sqrt{x^2_{0}+y^2_{0}+z^2_{0}}=\\sqrt{(-16)^2+4^2+(-13)^2}=\\sqrt{441}=21$$\n",
    "\n",
    "Запишем единичный вектор $\\overrightarrow{c}_{0}$:\n",
    "\n",
    "$$\\overrightarrow{c_{0}}=\\frac{\\overrightarrow{c}}{|\\overrightarrow{c}|}=\\Bigr(\\frac{4}{21},-\\frac{13}{21},-\\frac{16}{21}\\Bigl)$$\n",
    "\n",
    "Теперь найдем градиент в точке $L(-16,4,-13)$.\n",
    "\n",
    "\n",
    "$$U'_{x}=e^{x^2+y^2+z^2}\\cdot2x$$\n",
    "\n",
    "$$U'_{y}=e^{x^2+y^2+z^2}\\cdot2y$$\n",
    "\n",
    "$$U'_{z}=e^{x^2+y^2+z^2}\\cdot2z$$\n",
    "\n",
    "$$\\mbox{grad}U=(-32e^{441},8e^{441},-26e^{441})$$\n",
    "\n",
    "\n",
    "Осталось посчитать значение производной\n",
    "\n",
    "$$U'_{\\overrightarrow{c}} = (\\overrightarrow{c}_{0}\\cdot \\mbox{grad}U) = \\frac{e^{441}}{21}\\cdot(-4\\cdot32-13\\cdot8 + 16\\cdot26)=\\frac{184e^{441}}{21}$$"
   ]
  },
  {
   "cell_type": "markdown",
   "id": "3015adaf",
   "metadata": {},
   "source": [
    "---"
   ]
  },
  {
   "cell_type": "markdown",
   "id": "365448ea",
   "metadata": {},
   "source": [
    "__5*.__ Найти производную функции $U=\\log_{21}(x^2+y^2+z^2)$ в точке $F(-19,8,-4)$ по самому быстрому направлению."
   ]
  },
  {
   "cell_type": "markdown",
   "id": "66824366",
   "metadata": {},
   "source": [
    "**Решение**"
   ]
  },
  {
   "cell_type": "markdown",
   "id": "c994eb11",
   "metadata": {},
   "source": [
    "$$U'_{\\mbox{grad}U} - ?$$\n",
    "\n",
    "$$U=\\log_{21}(x^2+y^2+z^2)$$\n",
    "\n",
    "Найдем градиент.\n",
    "\n",
    "$$U'_{x}=\\frac{2x}{(x^2+y^2+z^2)\\ln21}$$\n",
    "\n",
    "$$U'_{y}=\\frac{2y}{(x^2+y^2+z^2)\\ln21}$$\n",
    "\n",
    "$$U'_{z}=\\frac{2z}{(x^2+y^2+z^2)\\ln21}$$\n",
    "\n",
    "Тогда градиент данной функции в точке $F(-19,8,-4)$ равен:\n",
    "\n",
    "$$\\mbox{grad}U=(-\\frac{38}{441\\ln21},\\frac{16}{441\\ln21},-\\frac{8}{441\\ln21})$$\n",
    "\n",
    "Найдем длину вектора градиента:\n",
    "\n",
    "$$|\\mbox{grad}U|=\\sqrt{x^2_{0}+y^2_{0}+z^2_{0}}=\\sqrt{\\Bigr(-\\frac{38}{441\\ln21}\\Bigl)^2+\\Bigr(\\frac{16}{441\\ln21}\\Bigl)^2+\\Bigr(-\\frac{8}{441\\ln21}\\Bigl)^2} =$$\n",
    "\n",
    "$$= \\frac{1}{441\\ln21}\\cdot\\sqrt{(-38)^2+16^2+(-8)^2} = \\frac{42}{441\\ln21} = \\frac{2}{21\\ln21}$$\n",
    "\n",
    "Найдем единичный вектор градиента:\n",
    "\n",
    "$$\\mbox{grad}U_{0}=\\frac{\\mbox{grad}U}{|\\mbox{grad}U|} = \\Bigr(-\\frac{19}{21},\\frac{8}{21},-\\frac{4}{21}\\Bigl)$$\n",
    "\n",
    "Тогда производная по направлению градиента равна:\n",
    "\n",
    "$$U'_{\\mbox{grad}U}=(\\mbox{grad}U_{0}\\cdot \\mbox{grad}U) =\\frac{19\\cdot38+8\\cdot16+4\\cdot8}{21^3\\ln21}=\\frac{882}{21^3\\ln21} = \\frac{2}{21\\ln21}$$\n",
    "\n",
    "\n",
    "\n"
   ]
  },
  {
   "cell_type": "markdown",
   "id": "0fbe8cd6",
   "metadata": {},
   "source": [
    "---"
   ]
  },
  {
   "cell_type": "markdown",
   "id": "08acb01d",
   "metadata": {},
   "source": [
    "__6.__ Исследовать на экстремум функцию:\n",
    "\n",
    "### $$U=x^2y+\\frac{1}{3}y^3+2x^2+3y^2-1$$"
   ]
  },
  {
   "cell_type": "markdown",
   "id": "e9ef20b9",
   "metadata": {},
   "source": [
    "**Решение**"
   ]
  },
  {
   "cell_type": "markdown",
   "id": "0de2adfe",
   "metadata": {},
   "source": [
    "Найдем стационарные точки, приравняв частные производные к 0:\n",
    "\n",
    "$\\begin{cases}\n",
    "   U'_{x}=2xy+4x=0 \\\\\n",
    "   U'_{y}=x^2+y^2+6y=0 \n",
    " \\end{cases}\n",
    "$\n",
    "\n",
    "$\\begin{cases}\n",
    "   \\left[ \n",
    "  \\begin{gathered} \n",
    "     x=0\\\\\n",
    "     y=-2\n",
    "  \\end{gathered} \n",
    "\\right. \\\\\n",
    "   x^2+y^2+6y=0 \n",
    " \\end{cases}$\n",
    " \n",
    "\n",
    "$\\begin{cases}\n",
    "        x=0 \\\\\n",
    "        y=0\n",
    "    \\end{cases} $ или\n",
    "    $\\begin{cases}\n",
    "        x=-2 \\\\\n",
    "        y=-6\n",
    "    \\end{cases} $ или\n",
    "    $\\begin{cases}\n",
    "        x=2\\sqrt2 \\\\\n",
    "        y=-2\n",
    "    \\end{cases} $ или\n",
    "    $\\begin{cases}\n",
    "        x=-2\\sqrt2 \\\\\n",
    "        y=-2\n",
    "    \\end{cases}$\n",
    "\n",
    "Нашли 4 стационарные точки: $(0;0)$,$(-2;-6)$,$(2\\sqrt2;-2)$,$(-2\\sqrt2;-2)$"
   ]
  },
  {
   "cell_type": "markdown",
   "id": "3c049d18",
   "metadata": {},
   "source": [
    "Теперь найдем вторые производные и составим матрицу Гёссе\n",
    "\n",
    " \n",
    "$$U''_{xx}=2y+4$$   \n",
    "\n",
    "$$U''_{yy}=2y+6$$\n",
    "\n",
    "$$U''_{xy}=2x$$ \n",
    "\n",
    "$$U''_{yx}=2x$$  \n",
    "\n",
    "$$\\begin{pmatrix}\n",
    "2y+4 & 2x\\\\ \n",
    "2x & 2y+6\\\\\n",
    "\\end{pmatrix}$$\n",
    "\n",
    "Теперь можно вычислить главные миноры\n",
    "\n",
    "$$\\Delta_{1}=U''_{xx}=2y+4$$\n",
    "\n",
    "$$\\Delta_{2}=\\begin{vmatrix}\n",
    "U''_{xx} & U''_{xy}\\\\ \n",
    "U''_{yx} & U''_{yy}\\\\\n",
    "\\end{vmatrix}=U''_{xx}\\cdot U''_{yy}-(U''_{xy})^2=4y^2+20y+24-4x^2$$"
   ]
  },
  {
   "cell_type": "markdown",
   "id": "23e650c2",
   "metadata": {},
   "source": [
    "Проверка знаков миноров для каждой стационарной точки:\n",
    "\n",
    "1. $(0;0)$\n",
    "\n",
    "$\\Delta_{1}=4>0$\n",
    "\n",
    "$\\Delta_{2}=24>0$\n",
    "\n",
    "Поскольку все миноры положительные, то найденная стационарная точка является точкой минимума. \n",
    "\n",
    "$(0,0)$ - точка минимума\n",
    "\n",
    "2. $(-2;-6)$\n",
    "\n",
    "$\\Delta_{1}=-8<0$\n",
    "\n",
    "$\\Delta_{2}=48>0$\n",
    "\n",
    "Поскольку первый минор отрицательный, а все остальные чередуют знак, то стационарная точка является точкой максимума. \n",
    "\n",
    "$(0,-6)$ - точка максимума\n",
    "\n",
    "Изменим первый минор:\n",
    "\n",
    "$$\\Delta_{1}=U''_{yy}=2y+6$$\n",
    "\n",
    "3. $(2\\sqrt2;-2)$\n",
    "\n",
    "$\\Delta_{1}=2>0$\n",
    "\n",
    "$\\Delta_{2}=4\\cdot4+20\\cdot(-2)+24-4\\cdot8 = -32 < 0$\n",
    "\n",
    "Поскольку первый минор положительный, а второй отрицательный, то найденная стационарная точка является седловой точкой. \n",
    "\n",
    "$(2\\sqrt2;-2)$ - седловая точка.\n",
    "\n",
    "4. $(-2\\sqrt2;-2)$\n",
    "\n",
    "$\\Delta_{1}=2>0$\n",
    "\n",
    "$\\Delta_{2}=4\\cdot4+20\\cdot(-2)+24-4\\cdot8 = -32 < 0$\n",
    "\n",
    "Поскольку первый минор положительный, а второй отрицательный, то найденная стационарная точка является седловой точкой. \n",
    "\n",
    "$(-2\\sqrt2;-2)$ - седловая точка."
   ]
  },
  {
   "cell_type": "markdown",
   "id": "6ccbc7f1",
   "metadata": {},
   "source": [
    "---"
   ]
  },
  {
   "cell_type": "markdown",
   "id": "d713e241",
   "metadata": {},
   "source": [
    "__7*.__ Исследовать на экстремум функцию:\n",
    "\n",
    "### $$U=e^{-\\frac{x}{2}}\\cdot(x^2+y^2)$$"
   ]
  },
  {
   "cell_type": "markdown",
   "id": "fe61ee16",
   "metadata": {},
   "source": [
    "**Решение**"
   ]
  },
  {
   "cell_type": "markdown",
   "id": "f24c5aed",
   "metadata": {},
   "source": [
    "Найдем стационарные точки, приравняв частные производные к 0:\n",
    "\n",
    "$\\begin{cases}\n",
    "   U'_{x}=-\\frac{1}{2}e^{-\\frac{x}{2}}(x^2+y^2)+e^{-\\frac{x}{2}}\\cdot2x=0 \\\\\n",
    "   U'_{y}=e^{-\\frac{x}{2}}\\cdot2y=0 \n",
    "\\end{cases}$\n",
    " \n",
    "Разделим на $e^{-\\frac{x}{2}}$\n",
    " \n",
    "$\\begin{cases}\n",
    "   -\\frac{1}{2}(x^2+y^2)+2x=0 \\\\\n",
    "   y=0 \n",
    "\\end{cases}$\n",
    "\n",
    "$\\begin{cases}\n",
    "   x^2-4x=0 \\\\\n",
    "   y=0 \n",
    "\\end{cases}$\n",
    "\n",
    "$\\begin{cases}\n",
    "        x=0 \\\\\n",
    "        y=0\n",
    "    \\end{cases} $ или\n",
    "    $\\begin{cases}\n",
    "        x=4 \\\\\n",
    "        y=0\n",
    "    \\end{cases}\n",
    "$"
   ]
  },
  {
   "cell_type": "markdown",
   "id": "bcc60a9c",
   "metadata": {},
   "source": [
    "Нашли 2 стационарные точки: $(0;0)$, $(4;0)$\n",
    "\n",
    "\n",
    "Теперь найдем вторые производные и составим матрицу Гёссе\n",
    "\n",
    "$$U''_{xx}=\\frac{1}{4}e^{-\\frac{x}{2}}(x^2+y^2)-\\frac{1}{2}e^{-\\frac{x}{2}}\\cdot2x-\\frac{1}{2}e^{-\\frac{x}{2}}\\cdot2x+2e^{-\\frac{x}{2}}$$ \n",
    "\n",
    "$$U''_{yy}=2e^{-\\frac{x}{2}}$$\n",
    "\n",
    "$$U''_{xy}=-\\frac{1}{2}e^{-\\frac{x}{2}}\\cdot2y$$  \n",
    "\n",
    "$$U''_{yx}=-\\frac{1}{2}e^{-\\frac{x}{2}}\\cdot2y$$  "
   ]
  },
  {
   "cell_type": "markdown",
   "id": "cb091a9c",
   "metadata": {},
   "source": [
    "Теперь можно вычислить главные миноры\n",
    "\n",
    "$$\\Delta_{1}=U''_{yy}=2e^{-\\frac{x}{2}}$$\n",
    "\n",
    "$$\\Delta_{2}=\\begin{vmatrix}\n",
    "U''_{xx} & U''_{xy}\\\\ \n",
    "U''_{yx} & U''_{yy}\\\\\n",
    "\\end{vmatrix}=U''_{xx}\\cdot U''_{yy}-(U''_{xy})^2=4y^2+20y+24-4x^2 = $$\n",
    "\n",
    "$$=\\Bigl(\\frac{1}{4}e^{-\\frac{x}{2}}(x^2+y^2)-\\frac{1}{2}e^{-\\frac{x}{2}}\\cdot2x-\\frac{1}{2}e^{-\\frac{x}{2}}\\cdot2x+2e^{-\\frac{x}{2}}\\Bigr)\\cdot2e^{-\\frac{x}{2}} - \\Bigl(-\\frac{1}{2}e^{-\\frac{x}{2}}\\cdot2y\\Bigr)^2$$"
   ]
  },
  {
   "cell_type": "markdown",
   "id": "aaf86b8b",
   "metadata": {},
   "source": [
    "Проверка знаков миноров для каждой стационарной точки:\n",
    "\n",
    "1. $(0;0)$\n",
    "\n",
    "$\\Delta_{1}=2>0$\n",
    "\n",
    "$\\Delta_{2}=4>0$\n",
    "\n",
    "Поскольку все миноры положительные, то найденная стационарная точка является точкой минимума. \n",
    "\n",
    "$(0,0)$ - точка минимума\n",
    "\n",
    "2. $(4;0)$\n",
    "\n",
    "$\\Delta_{1}=-\\frac{2}{e^2}<0$\n",
    "\n",
    "$\\Delta_{2}=-\\frac{4}{e^2}<0$\n",
    "\n",
    "Поскольку первый минор и второй минор отрицательные, то найденная стационарная точка является седловой точкой.\n",
    "\n",
    "$(4;0)$ - седловая точка."
   ]
  },
  {
   "cell_type": "markdown",
   "id": "096131a6",
   "metadata": {},
   "source": [
    "---"
   ]
  },
  {
   "cell_type": "markdown",
   "id": "a36a5177",
   "metadata": {},
   "source": [
    "__8**.__ С помощью метода наименьших квадратов (МНК) подобрать значения параметров $a$ и $b$ для сигмоидальной функции $$y=\\frac{1}{1+e^{-(ax+b)}}$$ \n",
    "\n",
    "по заданному распределению. Построить график."
   ]
  },
  {
   "cell_type": "code",
   "execution_count": 1,
   "id": "3975618d",
   "metadata": {},
   "outputs": [
    {
     "data": {
      "image/png": "[encoded data removed]",
      "text/plain": [
       "<Figure size 432x288 with 1 Axes>"
      ]
     },
     "metadata": {
      "needs_background": "light"
     },
     "output_type": "display_data"
    }
   ],
   "source": [
    "import numpy as np\n",
    "import matplotlib.pyplot as plt\n",
    "\n",
    "# Задаем рандомное распределение точек\n",
    "xi = np.random.uniform(-8, 8, 200)\n",
    "yi = 1/(1+np.exp(-np.random.uniform(0.5, 1.5, 200)*xi-np.random.uniform(-1, 1, 200)))\n",
    "plt.plot(xi,yi, marker=\"o\", ls=\"\")\n",
    "\n",
    "plt.show()"
   ]
  },
  {
   "cell_type": "markdown",
   "id": "17b7279f",
   "metadata": {},
   "source": [
    "**Решение**"
   ]
  },
  {
   "cell_type": "code",
   "execution_count": 36,
   "id": "9512982d",
   "metadata": {
    "scrolled": false
   },
   "outputs": [
    {
     "data": {
      "image/png": "[encoded data removed]",
      "text/plain": [
       "<Figure size 432x288 with 1 Axes>"
      ]
     },
     "metadata": {
      "needs_background": "light"
     },
     "output_type": "display_data"
    }
   ],
   "source": [
    "import numpy as np\n",
    "import matplotlib.pyplot as plt\n",
    "\n",
    "# Задаем рандомное распределение точек\n",
    "xi = np.random.uniform(-8, 8, 200)\n",
    "yi = 1/(1+np.exp(-np.random.uniform(0.5, 1.5, 200)*xi-np.random.uniform(-1, 1, 200)))\n",
    "plt.plot(xi,yi, marker=\"o\", ls=\"\")\n",
    "\n",
    "plt.show()"
   ]
  },
  {
   "cell_type": "markdown",
   "id": "e78729b2",
   "metadata": {},
   "source": [
    "Находим $a,b$\n",
    "\n",
    "$$\\displaystyle\\sum_{i}\\varepsilon_{i}^{2}=\\displaystyle\\sum_{i}(y_{i}-f_{i}(x))^2 \\rightarrow min$$\n",
    "\n",
    "\n",
    "$$y=\\frac{1}{1+e^{-(ax+b)}}$$ \n",
    "\n",
    "$$\\displaystyle\\sum_{i}\\varepsilon_{i}^{2}=\\displaystyle\\sum_{i}\\Bigl( y_{i}-\\frac{1}{1+e^{-(ax_{i}+b)}}\\Bigr)^{2}$$\n",
    "\n",
    "$$E(a,b) = \\displaystyle\\sum_{i}\\Bigl( y_{i}-\\frac{1}{1+e^{-(ax_{i}+b)}}\\Bigr)^{2}$$\n",
    "\n",
    "$$E'_{a} = \\displaystyle\\sum_{i}-2\\Bigl( y_{i}-\\frac{1}{1+e^{-(ax_{i}+b)}}\\Bigr)\\Bigl(\\frac{1}{1+e^{-(ax_{i}+b)}}\\Bigr)^2 e^{-(ax_{i}+b)}\\cdot x_i$$\n",
    "\n",
    "$$E'_{b} = \\displaystyle\\sum_{i}-2\\Bigl( y_{i}-\\frac{1}{1+e^{-(ax_{i}+b)}}\\Bigr)\\Bigl(\\frac{1}{1+e^{-(ax_{i}+b)}}\\Bigr)^2 e^{-(ax_{i}+b)}$$\n"
   ]
  },
  {
   "cell_type": "code",
   "execution_count": 37,
   "id": "15c39fb3",
   "metadata": {
    "scrolled": true
   },
   "outputs": [
    {
     "name": "stdout",
     "output_type": "stream",
     "text": [
      "0.9175260044274149 -0.0963049351551303\n"
     ]
    }
   ],
   "source": [
    "from scipy.optimize import fsolve\n",
    "import math\n",
    "\n",
    "def equations(p):\n",
    "    a, b = p\n",
    "    # Запись системы уравнения вида x+y=2, x-y=0\n",
    "    a_d = -2*(yi-1/(1+np.exp(-a*xi-b)))*xi*np.exp(-a*xi-b)/((1+np.exp(-a*xi-b))**2)\n",
    "    b_d = -2*(yi-1/(1+np.exp(-a*xi-b)))*np.exp(-a*xi-b)/((1+np.exp(-a*xi-b))**2)\n",
    "\n",
    "    return a_d.sum(), b_d.sum()\n",
    "\n",
    "# Численное решение системы уравнений\n",
    "a, b =  fsolve(equations, (1, 1))\n",
    "print (a, b)"
   ]
  },
  {
   "cell_type": "code",
   "execution_count": 38,
   "id": "8ca8640c",
   "metadata": {
    "scrolled": false
   },
   "outputs": [
    {
     "data": {
      "image/png": "[encoded data removed]",
      "text/plain": [
       "<Figure size 432x288 with 1 Axes>"
      ]
     },
     "metadata": {
      "needs_background": "light"
     },
     "output_type": "display_data"
    }
   ],
   "source": [
    "x = np.linspace(-8, 8, 200)\n",
    "y = 1/(1+np.exp(-a*x-b))\n",
    "plt.plot(x, y)\n",
    "\n",
    "plt.show()"
   ]
  },
  {
   "cell_type": "code",
   "execution_count": 40,
   "id": "612a5e14",
   "metadata": {},
   "outputs": [
    {
     "data": {
      "image/png": "[encoded data removed]",
      "text/plain": [
       "<Figure size 432x288 with 1 Axes>"
      ]
     },
     "metadata": {
      "needs_background": "light"
     },
     "output_type": "display_data"
    }
   ],
   "source": [
    "plt.plot(xi,yi, marker=\"o\", ls=\"\")\n",
    "plt.plot(x, y)\n",
    "\n",
    "plt.show()"
   ]
  },
  {
   "cell_type": "markdown",
   "id": "f45f394d",
   "metadata": {},
   "source": [
    "---"
   ]
  }
 ],
 "metadata": {
  "kernelspec": {
   "display_name": "Python 3 (ipykernel)",
   "language": "python",
   "name": "python3"
  },
  "language_info": {
   "codemirror_mode": {
    "name": "ipython",
    "version": 3
   },
   "file_extension": ".py",
   "mimetype": "text/x-python",
   "name": "python",
   "nbconvert_exporter": "python",
   "pygments_lexer": "ipython3",
   "version": "3.8.8"
  }
 },
 "nbformat": 4,
 "nbformat_minor": 5
}
