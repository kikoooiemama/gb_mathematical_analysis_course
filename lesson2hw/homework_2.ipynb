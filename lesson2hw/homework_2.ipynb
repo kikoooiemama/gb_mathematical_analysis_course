{
 "cells": [
  {
   "cell_type": "markdown",
   "id": "097e2310",
   "metadata": {
    "id": "097e2310"
   },
   "source": [
    "## Практическое задание №2 по теме \"Теория множеств. Математическая логика\""
   ]
  },
  {
   "cell_type": "markdown",
   "id": "c14f275a",
   "metadata": {
    "id": "c14f275a"
   },
   "source": [
    "__1.__ Представьте в виде __несократимой__ рациональной дроби:\n",
    "\n",
    "### $$а)\\,\\,\\, 0.(216);$$\n",
    "\n",
    "### $$б)\\,\\,\\, 1.0(01).$$"
   ]
  },
  {
   "cell_type": "markdown",
   "id": "0f1a7357",
   "metadata": {
    "id": "0f1a7357"
   },
   "source": [
    "**Решение:**\n",
    "\n",
    "**а)** $0.(216)$\n",
    "\n",
    "Пусть $a=0.(216)$, тогда\n",
    "\n",
    "$$1000a=216.(216)$$\n",
    "\n",
    "$$1000a=216 + 0.(216)$$\n",
    "\n",
    "$$1000a=216 + a$$\n",
    "\n",
    "$$999a=216$$\n",
    "\n",
    "$$a=\\frac{216}{999}=\\frac{24}{111}=\\frac{8}{37}$$\n",
    "\n",
    "Ответ: $0.(216) = \\frac{8}{37}$"
   ]
  },
  {
   "cell_type": "code",
   "execution_count": null,
   "id": "01e1883e",
   "metadata": {
    "id": "01e1883e",
    "outputId": "ba7d0107-047f-4a4a-ea56-4b7c489ccb48"
   },
   "outputs": [
    {
     "name": "stdout",
     "output_type": "stream",
     "text": [
      "0.21621621621621623\n"
     ]
    }
   ],
   "source": [
    "print(8/37)"
   ]
  },
  {
   "cell_type": "markdown",
   "id": "8914972e",
   "metadata": {
    "id": "8914972e"
   },
   "source": [
    "**б)** $1.0(01)$\n",
    "\n",
    "Пусть $b=0.(01)$, тогда\n",
    "\n",
    "$$100b=1+0.(01)$$\n",
    "\n",
    "$$99b=1$$\n",
    "\n",
    "$$99b=1$$\n",
    "\n",
    "$$b=\\frac{1}{99}$$\n",
    "\n",
    "$$0.(01) = \\frac{1}{99}$$\n",
    "\n",
    "Пусть $a=1.0(01)$, тогда\n",
    "\n",
    "$$10a=10+0.(01)$$\n",
    "\n",
    "$$10a=10+\\frac{1}{99}$$\n",
    "\n",
    "$$10a=\\frac{991}{99}$$\n",
    "\n",
    "$$a=\\frac{991}{990}$$\n",
    "\n",
    "Ответ: $1.0(01) = \\frac{991}{990}$"
   ]
  },
  {
   "cell_type": "code",
   "execution_count": null,
   "id": "08c9b837",
   "metadata": {
    "id": "08c9b837",
    "outputId": "e64b7670-bdd6-489c-d5d5-9cd13bac597d"
   },
   "outputs": [
    {
     "name": "stdout",
     "output_type": "stream",
     "text": [
      "1.001010101010101\n"
     ]
    }
   ],
   "source": [
    "print(991/990)"
   ]
  },
  {
   "cell_type": "markdown",
   "id": "e9cbdc6c",
   "metadata": {
    "id": "e9cbdc6c"
   },
   "source": [
    "---"
   ]
  },
  {
   "cell_type": "markdown",
   "id": "e60d2593",
   "metadata": {
    "id": "e60d2593"
   },
   "source": [
    "__2*.__ Пусть $x =\\frac{2}{21}$. Известно, что для некоторого натурального $k$ число $x$ записывается в $k$ - ичной системе счисления как $0.(13)_k = 0, 131313..._k$. Найдите $k$."
   ]
  },
  {
   "cell_type": "markdown",
   "id": "94531684",
   "metadata": {
    "id": "94531684"
   },
   "source": [
    "**Решение**"
   ]
  },
  {
   "cell_type": "markdown",
   "id": "0c2c5b14",
   "metadata": {
    "id": "0c2c5b14"
   },
   "source": [
    "$0.(13)_k = 0, 131313..._k$\n",
    "\n",
    "Мы можем составить следующие равенства:\n",
    "\n",
    "__1.__  $\\frac{2}{21}*k = 1.(?)$\n",
    "\n",
    "__2.__ $(\\frac{2}{21}*k - 1)*k = 3.(?)$\n",
    "\n",
    "__3.__ $((\\frac{2}{21}*k - 1)*k - 3)*k = 1.(?)$\n",
    "\n",
    "$...$\n",
    "\n",
    "Возьмем первые два равенства. Мы знаем, что $k$ - натуральное число и из первого равенства, мы знаем что в целой части должна получиться $1$. Таким образом, $10<k<21$\n",
    "\n",
    "Перебираем и смотрим какая целая часть получается во 2-ом неравенстве:\n",
    "\n",
    "при $k=11, (\\frac{2}{21}*k - 1)*k = 0.(?)$\n",
    "\n",
    "при $k=12, (\\frac{2}{21}*k - 1)*k = 1.(?)$\n",
    "\n",
    "при $k=13, (\\frac{2}{21}*k - 1)*k = 3.(?)$ - то что нужно!\n",
    "\n",
    "при $k=14, (\\frac{2}{21}*k - 1)*k = 4.(?)$\n",
    "\n",
    "Мы нашли, что $k = 13$. Сделаем проверку, переводя в десятичную систему счисления:\n",
    "\n",
    "$0.(13)_{13} = 1*13^{-1} + 3*13^{-2} + 1*13^{-3} + 3*13^{-4} + 1*13^{-5} + 3*13^{-6} + ...\\,\\, _{10}$\n",
    "\n",
    "Заметим в правой части 2 суммы двух бесконечно убывающих геометрических прогрессий: \n",
    "\n",
    "$0.(13)_{13} = (1*13^{-1} + 1*13^{-3} + 1*13^{-5} + ...) + (3*13^{-2} + 3*13^{-4} + 3*13^{-6} + ...)\\,\\, _{10}$\n",
    "\n",
    "Упростим:\n",
    "\n",
    "$0.(13)_{13} = \\frac{13^{-1}+3*13^{-2}}{1-13^{-2}}\\, _{10} \\approx 0.0952380952_{10}$\n",
    "\n",
    "$\\frac{2}{21} \\approx 0.0952380952$\n",
    "\n",
    "Ответ: $k=13$"
   ]
  },
  {
   "cell_type": "code",
   "execution_count": null,
   "id": "2957e5c9",
   "metadata": {
    "id": "2957e5c9",
    "outputId": "b1106511-6cc2-49f8-beb6-7f5960bdc6a4"
   },
   "outputs": [
    {
     "name": "stdout",
     "output_type": "stream",
     "text": [
      "0.0952380952\n"
     ]
    }
   ],
   "source": [
    "a = 1/13 + 3/(13**2)\n",
    "b = 1 - 1/(13**2)\n",
    "print(round(a/b, 10))"
   ]
  },
  {
   "cell_type": "code",
   "execution_count": null,
   "id": "a5fc8547",
   "metadata": {
    "id": "a5fc8547",
    "outputId": "64f54a4c-95cc-4bc2-d17c-2260a0273ed5"
   },
   "outputs": [
    {
     "name": "stdout",
     "output_type": "stream",
     "text": [
      "0.0952380952\n"
     ]
    }
   ],
   "source": [
    "print(round(2/21, 10))"
   ]
  },
  {
   "cell_type": "markdown",
   "id": "9462f4ac",
   "metadata": {
    "id": "9462f4ac"
   },
   "source": [
    "---"
   ]
  },
  {
   "cell_type": "markdown",
   "id": "fd089dfc",
   "metadata": {
    "id": "fd089dfc"
   },
   "source": [
    "__3.__ Проверьте любым способ, является ли данные логические формулы тавтологией:\n",
    "\n",
    "### $$a)\\,\\,\\, (A \\vee B) \\rightarrow (B \\vee\\overline A)$$\n",
    "### $$б)\\,\\,\\, A \\rightarrow (A \\vee (\\overline B \\wedge A))$$"
   ]
  },
  {
   "cell_type": "markdown",
   "id": "bff90cb7",
   "metadata": {
    "id": "bff90cb7"
   },
   "source": [
    "**Решение:**\n",
    "\n",
    "**a)** $(A \\vee B) \\rightarrow (B \\vee\\overline A)$\n",
    "\n",
    "$$(A \\vee B) \\rightarrow (B \\vee\\overline A) = \\overline{(A \\vee B)} \\vee (B \\vee\\overline A) = (\\overline B \\wedge\\overline A) \\vee (B \\vee\\overline A) = $$\n",
    "\n",
    "$$ = ((\\overline B \\wedge\\overline A) \\vee B) \\vee\\overline A  = ((B \\vee\\overline A) \\wedge (B \\vee\\overline B)) \\vee\\overline A = (B \\vee\\overline A) \\vee\\overline A =  $$\n",
    "\n",
    "$$ = B \\vee\\overline A $$\n",
    "\n",
    "Ответ: $(A \\vee B) \\rightarrow (B \\vee\\overline A) = B \\vee\\overline A$, не тавталогия"
   ]
  },
  {
   "cell_type": "markdown",
   "id": "e22ff373",
   "metadata": {
    "id": "e22ff373"
   },
   "source": [
    "**б)** $A \\rightarrow (A \\vee (\\overline B \\wedge A))$\n",
    "\n",
    "$$A \\rightarrow (A \\vee (\\overline B \\wedge A)) = A \\rightarrow  (A \\vee (A \\wedge\\overline B)) = $$\n",
    "\n",
    "$$ =  A \\rightarrow A = \\overline A \\vee A = 1$$\n",
    "\n",
    "Ответ: $A \\rightarrow (A \\vee (\\overline B \\wedge A)) = 1$, тавталогия"
   ]
  },
  {
   "cell_type": "markdown",
   "id": "eb56f024",
   "metadata": {
    "id": "eb56f024"
   },
   "source": [
    "---"
   ]
  },
  {
   "cell_type": "markdown",
   "id": "882edf2a",
   "metadata": {
    "id": "882edf2a"
   },
   "source": [
    "__4.__ Сформулируйте словесно высказывания:\n",
    "### $$a)\\,\\,\\, (\\overline A \\vee B) \\rightarrow \\overline C$$\n",
    "### $$б)\\,\\,\\, C \\rightarrow (A \\vee \\overline B)$$\n",
    "\n",
    "- $A:\\,\\,\\,$ сегодня светит солнце; \n",
    "- $B:\\,\\,\\,$ сегодня сыро; \n",
    "- $C:\\,\\,\\,$ я поеду на дачу. "
   ]
  },
  {
   "cell_type": "markdown",
   "id": "a11b91ee",
   "metadata": {
    "id": "a11b91ee"
   },
   "source": [
    "**Решение:**\n",
    "\n",
    "$а)$\n",
    "\n",
    "Если сегодня не будет светить солнце и будет сыро, то я не поеду на дачу.\n",
    "\n",
    "$б)$\n",
    "\n",
    "Если я поеду на дачу, то сегодня будет солнечно и сухо."
   ]
  },
  {
   "cell_type": "markdown",
   "id": "b636108f",
   "metadata": {
    "id": "b636108f"
   },
   "source": [
    "---"
   ]
  },
  {
   "cell_type": "markdown",
   "id": "7f21f333",
   "metadata": {
    "id": "7f21f333"
   },
   "source": [
    "__5.__  Пользуясь правилом построения противоположного высказывания, запишите утверждения, противоположные следующим:\n",
    "\n",
    "a) На любом курсе каждого факультета есть студенты, сдающие все экзамены на «отлично».\n",
    "\n",
    "б) В любом самолете на рейсе Вашингтон-Москва присутствует хотя бы один сотрудник силовых органов, в каждой пуговице одежды которого вмонтирован микрофон."
   ]
  },
  {
   "cell_type": "markdown",
   "id": "7baaf367",
   "metadata": {
    "id": "7baaf367"
   },
   "source": [
    "**Решение:**\n",
    "\n",
    "$a)$\n",
    "\n",
    "$\\forall$ курса  $\\forall$ факультета $\\exists$ студенты: ($\\forall$ экзамен __равен__ «отлично»)\n",
    "\n",
    "$\\exists$ курс  $\\exists$ факультет $\\forall$ студента: ($\\exists$ экзамен __не равен__ «отлично»)\n",
    "\n",
    "Хотя бы на одном факультете существует хотя бы один курс, на котором все студенты имеют экзамен, несданный на «отлично»."
   ]
  },
  {
   "cell_type": "markdown",
   "id": "52a259d1",
   "metadata": {
    "id": "52a259d1"
   },
   "source": [
    "$б)$\n",
    "\n",
    "$\\forall$ самолета на рейсе Вашингтон-Москва $\\exists$ сотрудник силовых органов: ($\\forall$ пуговица одежды __имеет__ микрофон)\n",
    "\n",
    "$\\exists$ самолет на рейсе Вашингтон-Москва $\\forall$ сотрудник силовых органов: ($\\exists$ пуговица одежды __не имеет__ микрофон)\n",
    "\n",
    "Существует хотя бы один самолет на рейсе Вашингтон-Москва, в котором любой сотрудник силовых органов имеет пуговицу одежды без вмонтированного микрофона"
   ]
  },
  {
   "cell_type": "markdown",
   "id": "4e10fe02",
   "metadata": {
    "id": "4e10fe02"
   },
   "source": [
    "---"
   ]
  },
  {
   "cell_type": "markdown",
   "id": "f965bc98",
   "metadata": {
    "id": "f965bc98"
   },
   "source": [
    "__6*.__ Прочитайте высказывания, установите их истинность и постройте противоположное высказывание:\n",
    "\n",
    "### $$a)\\,\\,\\, \\forall x\\in\\mathbb{R}\\,\\,\\,\\exists X\\in\\mathbb{R}:\\,\\,\\, X>x;$$\n",
    "### $$б)\\,\\,\\, \\forall y\\in\\Bigl[0; \\frac{\\pi}{2}\\Bigr]\\,\\,\\,\\exists \\varepsilon>0:\\,\\,\\, \\sin y<\\sin(y+\\varepsilon);$$\n",
    "### $$в)\\,\\,\\, \\forall y\\in\\Bigl[0; \\pi\\Bigr)\\,\\,\\,\\exists \\varepsilon>0:\\,\\,\\, \\cos y>\\cos(y+\\varepsilon).$$"
   ]
  },
  {
   "cell_type": "markdown",
   "id": "7910f171",
   "metadata": {
    "id": "7910f171"
   },
   "source": [
    "**Решение:**\n",
    "\n",
    "$a)\\,\\,\\, \\forall x\\in\\mathbb{R}\\,\\,\\,\\exists X\\in\\mathbb{R}: X>x$\n",
    "\n",
    "Высказывание истинное, но почему? Если загадаете миллион, я всегда могу загадать миллион + 1 и так далее.\n",
    "\n",
    "Противоположное высказывание: \n",
    "\n",
    "$\\exists x\\in\\mathbb{R} \\,\\,\\,\\forall X\\in\\mathbb{R}: X \\leq x$"
   ]
  },
  {
   "cell_type": "markdown",
   "id": "33b377d0",
   "metadata": {
    "id": "33b377d0"
   },
   "source": [
    "$б)\\,\\,\\, \\forall y\\in\\Bigl[0; \\frac{\\pi}{2}\\Bigr]\\,\\,\\,\\exists \\varepsilon>0:\\,\\,\\, \\sin y<\\sin(y+\\varepsilon)$\n",
    "\n",
    "Высказывание ложное. При $y\\in\\Bigl[0; \\frac{\\pi}{2}\\Bigr]$ функция $\\sin y$ принимает значения в интервале $[0;1]$. При $y =\\frac{\\pi}{2}$ функция $\\sin y$ принимает максимальное значение, а это значит, что $\\sin(y+\\varepsilon)$ никак не может принять значение больше максимального.\n",
    "\n",
    "Противоположное высказывание: \n",
    "\n",
    "$\\exists y\\in\\Bigl[0; \\frac{\\pi}{2}\\Bigr]\\,\\,\\,\\forall \\varepsilon>0:\\,\\,\\, \\sin y \\geq \\sin(y+\\varepsilon)$"
   ]
  },
  {
   "cell_type": "markdown",
   "id": "657ae65b",
   "metadata": {
    "id": "657ae65b"
   },
   "source": [
    "$в)\\,\\,\\, \\forall y\\in\\Bigl[0; \\pi\\Bigr)\\,\\,\\,\\exists \\varepsilon>0:\\,\\,\\, \\cos y>\\cos(y+\\varepsilon)$\n",
    "\n",
    "Высказывание ложное. $\\cos y$ убывает на всем участке $y\\in\\Bigl[0; \\pi\\Bigr)$, причем $\\cos y \\in\\Bigl(-1;1\\Bigr]$. Так как $-1$ не входит в интервал значений $\\cos y$, то всегда можно подобрать такой $\\varepsilon>0$, чтобы $\\cos(y+\\varepsilon) = -1$\n",
    "\n",
    "Противоположное высказывание: \n",
    "\n",
    "$\\exists y\\in\\Bigl[0; \\pi\\Bigr)\\,\\,\\,\\forall \\varepsilon>0:\\,\\,\\, \\cos y \\leq \\cos(y+\\varepsilon)$"
   ]
  },
  {
   "cell_type": "markdown",
   "id": "d2c4b7d1",
   "metadata": {
    "id": "d2c4b7d1"
   },
   "source": [
    "---"
   ]
  }
 ],
 "metadata": {
  "colab": {
   "name": "homework 2.ipynb",
   "provenance": []
  },
  "kernelspec": {
   "display_name": "Python 3 (ipykernel)",
   "language": "python",
   "name": "python3"
  },
  "language_info": {
   "codemirror_mode": {
    "name": "ipython",
    "version": 3
   },
   "file_extension": ".py",
   "mimetype": "text/x-python",
   "name": "python",
   "nbconvert_exporter": "python",
   "pygments_lexer": "ipython3",
   "version": "3.8.8"
  }
 },
 "nbformat": 4,
 "nbformat_minor": 5
}
