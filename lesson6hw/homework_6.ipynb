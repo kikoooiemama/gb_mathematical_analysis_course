{
 "cells": [
  {
   "cell_type": "markdown",
   "id": "c356eb14",
   "metadata": {},
   "source": [
    "## Практическое задание №6 по теме \"Производная функции одной переменной. Часть 2\""
   ]
  },
  {
   "cell_type": "markdown",
   "id": "55cd8b3d",
   "metadata": {},
   "source": [
    "__1.__ Найти производную $y'_{x}$ функции:\n",
    "\n",
    "### $$\\mbox{arctg}(\\frac{y}{x})=\\ln \\sqrt{x^2+y^2}$$"
   ]
  },
  {
   "cell_type": "markdown",
   "id": "2b04ebda",
   "metadata": {},
   "source": [
    "**Решение**\n",
    "\n",
    "\n",
    "$$\\mbox{arctg}(\\frac{y}{x}) - \\ln \\sqrt{x^2+y^2} = 0$$\n",
    "\n",
    "$$y'=-\\frac {F'_{х}}{F'_{y}}$$\n",
    "\n",
    "$$F'_{х} =  \\frac{1}{1 + (\\frac{y}{x})^2}\\cdot(-\\frac{y}{x^2}) - \\frac{1}{2}\\cdot\\frac{1}{x^2+y^2}\\cdot2x = $$\n",
    "\n",
    "$$ = -\\frac{y}{x^2}\\cdot\\frac{x^2}{x^2+y^2} - \\frac{x}{x^2+y^2} = - \\frac{x+y}{x^2+y^2}$$\n",
    "\n",
    "$$F'_{y} = \\frac{x^2}{x^2+y^2}\\cdot\\frac{1}{x} - \\frac{y}{x^2+y^2} = \\frac{x-y}{x^2+y^2}$$\n",
    "\n",
    "$$$$\n",
    "\n",
    "$$y'_{x} = -\\frac {F'_{х}}{F'_{y}} =\\frac{x+y}{x^2+y^2} \\cdot \\frac{x^2+y^2}{x-y} = \\frac{x+y}{x-y}$$"
   ]
  },
  {
   "cell_type": "code",
   "execution_count": 1,
   "id": "d6b7769e",
   "metadata": {},
   "outputs": [],
   "source": [
    "from sympy import *\n",
    "init_printing()"
   ]
  },
  {
   "cell_type": "code",
   "execution_count": 2,
   "id": "24930a0e",
   "metadata": {},
   "outputs": [
    {
     "data": {
      "image/png": "[encoded data removed]",
      "text/latex": [
       "$\\displaystyle - \\log{\\left(\\sqrt{x^{2} + y^{2}} \\right)} + \\operatorname{atan}{\\left(\\frac{y}{x} \\right)}$"
      ],
      "text/plain": [
       "     ⎛   _________⎞          \n",
       "     ⎜  ╱  2    2 ⎟       ⎛y⎞\n",
       "- log⎝╲╱  x  + y  ⎠ + atan⎜─⎟\n",
       "                          ⎝x⎠"
      ]
     },
     "execution_count": 2,
     "metadata": {},
     "output_type": "execute_result"
    }
   ],
   "source": [
    "x,y=symbols('x y')\n",
    "f = atan(y/x) - ln(sqrt(x**2+y**2))\n",
    "f"
   ]
  },
  {
   "cell_type": "code",
   "execution_count": 3,
   "id": "60b834e3",
   "metadata": {},
   "outputs": [
    {
     "data": {
      "image/png": "[encoded data removed]",
      "text/latex": [
       "$\\displaystyle \\frac{x + y}{x - y}$"
      ],
      "text/plain": [
       "x + y\n",
       "─────\n",
       "x - y"
      ]
     },
     "execution_count": 3,
     "metadata": {},
     "output_type": "execute_result"
    }
   ],
   "source": [
    "res = -diff(f,x) / diff(f,y)\n",
    "res = together(res)\n",
    "res"
   ]
  },
  {
   "cell_type": "markdown",
   "id": "f1de4238",
   "metadata": {},
   "source": [
    "---"
   ]
  },
  {
   "cell_type": "markdown",
   "id": "d25baedf",
   "metadata": {},
   "source": [
    "__2.__ Найти производную $y'_{x}$ функции:\n",
    "\n",
    "### \\begin{cases}\n",
    "   y=\\frac{t^2}{t-1}, \\\\\n",
    "   x=\\frac{t}{t^2-1} \n",
    " \\end{cases}"
   ]
  },
  {
   "cell_type": "markdown",
   "id": "cc514f41",
   "metadata": {},
   "source": [
    "**Решение**\n",
    "\n",
    "$$y'_{x}=\\frac{y'_{t}}{x'_{t}}$$\n",
    "\n",
    "$$y'_{t} = \\Bigl(\\frac{t^2}{t-1}\\Bigr)' = \\frac{2t(t-1) - t^2}{(t-1)^2} = \\frac{t(t-2)}{(t-1)^2}$$\n",
    "\n",
    "$$x'_{t} = \\Bigl(\\frac{t}{t^2-1}\\Bigr)' = \\frac{(t^2-1)-2t^2}{(t^2-1)^2} = -\\frac{t^2+1}{(t^2-1)^2}$$\n",
    "\n",
    "$$$$\n",
    "\n",
    "$$y'_{x}=\\frac{y'_{t}}{x'_{t}} = -\\frac{t(t-2)(t^2-1)^2}{(t-1)^2(t^2+1)} = - \\frac{t(t-2)(t+1)^2}{(t^2+1)}$$"
   ]
  },
  {
   "cell_type": "code",
   "execution_count": 4,
   "id": "cccfc17c",
   "metadata": {
    "scrolled": true
   },
   "outputs": [
    {
     "data": {
      "image/png": "[encoded data removed]",
      "text/latex": [
       "$\\displaystyle \\frac{t^{2}}{t - 1}$"
      ],
      "text/plain": [
       "   2 \n",
       "  t  \n",
       "─────\n",
       "t - 1"
      ]
     },
     "execution_count": 4,
     "metadata": {},
     "output_type": "execute_result"
    }
   ],
   "source": [
    "t = Symbol('t')\n",
    "y = t**2/(t-1)\n",
    "y"
   ]
  },
  {
   "cell_type": "code",
   "execution_count": 5,
   "id": "39b72607",
   "metadata": {
    "scrolled": true
   },
   "outputs": [
    {
     "data": {
      "image/png": "[encoded data removed]",
      "text/latex": [
       "$\\displaystyle \\frac{t}{t^{2} - 1}$"
      ],
      "text/plain": [
       "  t   \n",
       "──────\n",
       " 2    \n",
       "t  - 1"
      ]
     },
     "execution_count": 5,
     "metadata": {},
     "output_type": "execute_result"
    }
   ],
   "source": [
    "x = t/(t**2 - 1)\n",
    "x"
   ]
  },
  {
   "cell_type": "code",
   "execution_count": 6,
   "id": "1b448fe7",
   "metadata": {},
   "outputs": [
    {
     "data": {
      "image/png": "[encoded data removed]",
      "text/latex": [
       "$\\displaystyle \\frac{t \\left(t - 2\\right) \\left(t^{2} - 1\\right)^{2}}{\\left(t - 1\\right)^{2} \\left(- t^{2} - 1\\right)}$"
      ],
      "text/plain": [
       "                  2\n",
       "          ⎛ 2    ⎞ \n",
       "t⋅(t - 2)⋅⎝t  - 1⎠ \n",
       "───────────────────\n",
       "       2 ⎛   2    ⎞\n",
       "(t - 1) ⋅⎝- t  - 1⎠"
      ]
     },
     "execution_count": 6,
     "metadata": {},
     "output_type": "execute_result"
    }
   ],
   "source": [
    "res = diff(y,t) / diff(x,t)\n",
    "res = together(res)\n",
    "res"
   ]
  },
  {
   "cell_type": "markdown",
   "id": "ec160038",
   "metadata": {},
   "source": [
    "---"
   ]
  },
  {
   "cell_type": "markdown",
   "id": "ed347247",
   "metadata": {},
   "source": [
    "__3.__ Найти производную с помощью логарифмирования:\n",
    "\n",
    "### $$y=(x^2+2)^5\\cdot(3x-x^3)^3$$"
   ]
  },
  {
   "cell_type": "markdown",
   "id": "73f06801",
   "metadata": {},
   "source": [
    "**Решение**\n",
    "\n",
    "\n",
    "$$y'=f(x)\\cdot (\\ln f(x))'$$\n",
    "\n",
    "$$$$\n",
    "\n",
    "$$y'=(x^2+2)^5\\cdot(3x-x^3)^3 \\cdot (5\\ln (x^2+2) + 3\\ln(3x-x^3))' = $$\n",
    "\n",
    "$$= (x^2+2)^5\\cdot(3x-x^3)^3 \\cdot \\Bigl(\\frac{10x}{x^2+2} + \\frac{9-9x^2}{3x-x^3} \\Bigr) = $$\n",
    "\n",
    "$$ = 10x(x^2+2)^4(3x-x^3)^3 + (9-9x^2)(x^2+2)^5(3x-x^3)^2$$"
   ]
  },
  {
   "cell_type": "code",
   "execution_count": 7,
   "id": "2874a516",
   "metadata": {},
   "outputs": [
    {
     "data": {
      "image/png": "[encoded data removed]",
      "text/latex": [
       "$\\displaystyle \\left(x^{2} + 2\\right)^{5} \\left(- x^{3} + 3 x\\right)^{3}$"
      ],
      "text/plain": [
       "        5             3\n",
       "⎛ 2    ⎞  ⎛   3      ⎞ \n",
       "⎝x  + 2⎠ ⋅⎝- x  + 3⋅x⎠ "
      ]
     },
     "execution_count": 7,
     "metadata": {},
     "output_type": "execute_result"
    }
   ],
   "source": [
    "x=Symbol('x')\n",
    "y=(x**2 + 2)**5 * (3*x - x**3)**3\n",
    "y"
   ]
  },
  {
   "cell_type": "code",
   "execution_count": 8,
   "id": "54c943af",
   "metadata": {},
   "outputs": [
    {
     "data": {
      "image/png": "[encoded data removed]",
      "text/latex": [
       "$\\displaystyle 10 x \\left(x^{2} + 2\\right)^{4} \\left(- x^{3} + 3 x\\right)^{3} + \\left(9 - 9 x^{2}\\right) \\left(x^{2} + 2\\right)^{5} \\left(- x^{3} + 3 x\\right)^{2}$"
      ],
      "text/plain": [
       "             4             3                      5             2\n",
       "     ⎛ 2    ⎞  ⎛   3      ⎞    ⎛       2⎞ ⎛ 2    ⎞  ⎛   3      ⎞ \n",
       "10⋅x⋅⎝x  + 2⎠ ⋅⎝- x  + 3⋅x⎠  + ⎝9 - 9⋅x ⎠⋅⎝x  + 2⎠ ⋅⎝- x  + 3⋅x⎠ "
      ]
     },
     "execution_count": 8,
     "metadata": {},
     "output_type": "execute_result"
    }
   ],
   "source": [
    "diff(y,x)"
   ]
  },
  {
   "cell_type": "markdown",
   "id": "f5e70e63",
   "metadata": {},
   "source": [
    "---"
   ]
  },
  {
   "cell_type": "markdown",
   "id": "7089c102",
   "metadata": {},
   "source": [
    "__4.__ Найти производную функции с помощью логарифмирования:\n",
    "\n",
    "### $$y=x^x$$"
   ]
  },
  {
   "cell_type": "markdown",
   "id": "908d3ba8",
   "metadata": {},
   "source": [
    "**Решение**\n",
    "\n",
    "$$y'=f(x)\\cdot (\\ln f(x))'$$\n",
    "\n",
    "$$$$\n",
    "\n",
    "$$y'=x^x \\cdot (x \\cdot \\ln x)' = x^x(\\ln x + \\frac{x}{x}) = x^x(\\ln x + 1)$$"
   ]
  },
  {
   "cell_type": "code",
   "execution_count": 9,
   "id": "7146b855",
   "metadata": {},
   "outputs": [
    {
     "data": {
      "image/png": "[encoded data removed]",
      "text/latex": [
       "$\\displaystyle x^{x}$"
      ],
      "text/plain": [
       " x\n",
       "x "
      ]
     },
     "execution_count": 9,
     "metadata": {},
     "output_type": "execute_result"
    }
   ],
   "source": [
    "x=Symbol('x')\n",
    "y=x**x\n",
    "y"
   ]
  },
  {
   "cell_type": "code",
   "execution_count": 10,
   "id": "81d28593",
   "metadata": {},
   "outputs": [
    {
     "data": {
      "image/png": "[encoded data removed]",
      "text/latex": [
       "$\\displaystyle x^{x} \\left(\\log{\\left(x \\right)} + 1\\right)$"
      ],
      "text/plain": [
       " x             \n",
       "x ⋅(log(x) + 1)"
      ]
     },
     "execution_count": 10,
     "metadata": {},
     "output_type": "execute_result"
    }
   ],
   "source": [
    "diff(y,x)"
   ]
  },
  {
   "cell_type": "markdown",
   "id": "be1c7147",
   "metadata": {},
   "source": [
    "---"
   ]
  },
  {
   "cell_type": "markdown",
   "id": "ef43537a",
   "metadata": {},
   "source": [
    "__5.__ Найти производную функции с помощью логарифмирования:\n",
    "\n",
    "### $$y=\\frac{(2-x^2)^3\\cdot(x-1)^2}{(2x^3-3x)\\cdot e^x}$$"
   ]
  },
  {
   "cell_type": "markdown",
   "id": "b2e4579a",
   "metadata": {},
   "source": [
    "$$=\\frac{(2-x^2)^3\\cdot(x-1)^2}{(2x^3-3x)\\cdot e^x} \\cdot \\Bigl(3\\ln (2-x^2) + 2\\ln (x-1) - \\ln (2x^3-3x) - \\ln (e^x)\\Bigr)' = $$"
   ]
  },
  {
   "cell_type": "markdown",
   "id": "a6fb842f",
   "metadata": {},
   "source": [
    "**Решение**\n",
    "\n",
    "$$y'=f(x)\\cdot (\\ln f(x))'$$\n",
    "\n",
    "$$$$\n",
    "\n",
    "$$y'=\\frac{(2-x^2)^3\\cdot(x-1)^2}{(2x^3-3x)\\cdot e^x} \\cdot \\Bigl(\\ln \\Bigl(\\frac{(2-x^2)^3\\cdot(x-1)^2}{(2x^3-3x)\\cdot e^x}\\Bigr)\\Bigr)' = $$\n",
    "\n",
    "$$=\\frac{(2-x^2)^3\\cdot(x-1)^2}{(2x^3-3x)\\cdot e^x} \\cdot \\Bigl(3\\ln (2-x^2) + 2\\ln (x-1) - \\ln (2x^3-3x) - \\ln (e^x)\\Bigr)' = $$\n",
    "\n",
    "$$ = \\frac{(2-x^2)^3\\cdot(x-1)^2}{(2x^3-3x)\\cdot e^x} \\cdot \\Bigl(\\frac{-6x}{2-x^2} + \\frac{2}{x-1} - \\frac{6x^2-3}{2x^3-3x} - 1\\Bigr) = $$\n",
    "\n",
    "$$= -\\frac{6x(2-x^2)^2(x-1)^2}{(2x^3-3x)e^x} + \\frac{2(2-x^2)^3(x-1)}{(2x^3-3x)e^x} - \\frac{(6x^2-3)(2-x^2)^3(x-1)^2}{(2x^3-3x)^2e^x}+ \\frac{(2-x^2)^3(x-1)^2}{(2x^3-3x)e^x}$$"
   ]
  },
  {
   "cell_type": "code",
   "execution_count": 11,
   "id": "3a27af06",
   "metadata": {},
   "outputs": [
    {
     "data": {
      "image/png": "[encoded data removed]",
      "text/latex": [
       "$\\displaystyle \\frac{\\left(2 - x^{2}\\right)^{3} \\left(x - 1\\right)^{2} e^{- x}}{2 x^{3} - 3 x}$"
      ],
      "text/plain": [
       "        3             \n",
       "⎛     2⎞         2  -x\n",
       "⎝2 - x ⎠ ⋅(x - 1) ⋅ℯ  \n",
       "──────────────────────\n",
       "         3            \n",
       "      2⋅x  - 3⋅x      "
      ]
     },
     "execution_count": 11,
     "metadata": {},
     "output_type": "execute_result"
    }
   ],
   "source": [
    "x=Symbol('x')\n",
    "y= ((2-x**2)**3)*((x-1)**2)/((2*x**3-3*x)*exp(x))\n",
    "y"
   ]
  },
  {
   "cell_type": "code",
   "execution_count": 12,
   "id": "7d268120",
   "metadata": {},
   "outputs": [
    {
     "data": {
      "image/png": "[encoded data removed]",
      "text/latex": [
       "$\\displaystyle - \\frac{6 x \\left(2 - x^{2}\\right)^{2} \\left(x - 1\\right)^{2} e^{- x}}{2 x^{3} - 3 x} + \\frac{\\left(2 - x^{2}\\right)^{3} \\left(3 - 6 x^{2}\\right) \\left(x - 1\\right)^{2} e^{- x}}{\\left(2 x^{3} - 3 x\\right)^{2}} - \\frac{\\left(2 - x^{2}\\right)^{3} \\left(x - 1\\right)^{2} e^{- x}}{2 x^{3} - 3 x} + \\frac{\\left(2 - x^{2}\\right)^{3} \\left(2 x - 2\\right) e^{- x}}{2 x^{3} - 3 x}$"
      ],
      "text/plain": [
       "              2                        3                                   3  \n",
       "      ⎛     2⎞         2  -x   ⎛     2⎞  ⎛       2⎞        2  -x   ⎛     2⎞   \n",
       "  6⋅x⋅⎝2 - x ⎠ ⋅(x - 1) ⋅ℯ     ⎝2 - x ⎠ ⋅⎝3 - 6⋅x ⎠⋅(x - 1) ⋅ℯ     ⎝2 - x ⎠ ⋅(\n",
       "- ────────────────────────── + ───────────────────────────────── - ───────────\n",
       "             3                                       2                      3 \n",
       "          2⋅x  - 3⋅x                     ⎛   3      ⎞                    2⋅x  \n",
       "                                         ⎝2⋅x  - 3⋅x⎠                         \n",
       "\n",
       "                      3              \n",
       "      2  -x   ⎛     2⎞             -x\n",
       "x - 1) ⋅ℯ     ⎝2 - x ⎠ ⋅(2⋅x - 2)⋅ℯ  \n",
       "─────────── + ───────────────────────\n",
       "                        3            \n",
       "- 3⋅x                2⋅x  - 3⋅x      \n",
       "                                     "
      ]
     },
     "execution_count": 12,
     "metadata": {},
     "output_type": "execute_result"
    }
   ],
   "source": [
    "diff(y,x)"
   ]
  },
  {
   "cell_type": "markdown",
   "id": "413fb5c9",
   "metadata": {},
   "source": [
    "---"
   ]
  },
  {
   "cell_type": "markdown",
   "id": "6fc6c881",
   "metadata": {},
   "source": [
    "__6*.__ Вывести табличное значение производной для функции\n",
    "\n",
    "### $$\\mbox{arctg}(x)$$"
   ]
  },
  {
   "cell_type": "markdown",
   "id": "e92aabbe",
   "metadata": {},
   "source": [
    "**Решение**\n",
    "\n",
    "$$y'_{x}=\\frac{1}{x'_{y}}$$\n",
    "\n",
    "$y = \\mbox{arctg} x$\n",
    "\n",
    "$x = \\mbox{tg} y$\n",
    "\n",
    "Возьмем функцию $y=\\mbox{arctg} (x)$, тогда\n",
    "\n",
    "$$y'_{x}=\\frac{1}{x'_{y}}=\\frac{1}{(\\mbox{tg} y)'_{y}}=\\cos^{2} y = \\frac{1}{1 + \\mbox{tg}^2 y} = \\frac{1}{1+x^2}$$\n",
    "\n",
    "$$$$\n",
    "\n",
    "$$ \\Bigl( \\mbox{arctg}(x) \\Bigr)' = \\frac{1}{1+x^2} $$\n"
   ]
  },
  {
   "cell_type": "markdown",
   "id": "50dca191",
   "metadata": {},
   "source": [
    "---"
   ]
  },
  {
   "cell_type": "markdown",
   "id": "c3c7929a",
   "metadata": {},
   "source": [
    "__7.__ Найти длину $𝑥$ и ширину $𝑦$ прямоугольника при заданном периметре $𝑃=144$ cм, при которых данный прямоугольник имеет наибольшую площадь $𝑆$."
   ]
  },
  {
   "cell_type": "markdown",
   "id": "0ae53fa4",
   "metadata": {},
   "source": [
    "**Решение**\n",
    "\n",
    "$$P=144 \\,см,\\, S = S_{max}$$\n",
    "\n",
    "$$x-?$$\n",
    "\n",
    "$$y-?$$\n",
    "\n",
    "$P = 2x + 2y$\n",
    "\n",
    "$S = x\\cdot y$\n",
    "\n",
    "Выразим $y$ через $x$ через формулу периметра:\n",
    "\n",
    "$2x + 2y = 144$\n",
    "\n",
    "$y = 72 - x$\n",
    "\n",
    "Подставим полученное выражение в формулу для площади:\n",
    "\n",
    "$S = x\\cdot (72-x)$\n",
    "\n",
    "Теперь можно найти производную и приравнять ее к нулю, дабы отыскать критическую точку:\n",
    "\n",
    "$S^{'} = 72-2x$\n",
    "\n",
    "$72 - 2x = 0$\n",
    "\n",
    "$ x = 36 $\n",
    "\n",
    "Слева от точки $x=36$ производная принимает \"+\" значения, а справа \"-\" значения. Точка $x=36$ является точкой локального максимума, а значение $S = 36\\cdot 36 = 1296$ является локальным максимумом.\n",
    "\n",
    "**Ответ:** $S_{max} = 1296$ при $\\begin{cases}\n",
    "   y=36, \\\\\n",
    "   x=36 \n",
    " \\end{cases}\n",
    "$"
   ]
  },
  {
   "cell_type": "markdown",
   "id": "e9a28d3a",
   "metadata": {},
   "source": [
    "---"
   ]
  },
  {
   "cell_type": "markdown",
   "id": "3d7f24b7",
   "metadata": {},
   "source": [
    "__8*.__ Завод $A$ отстоит от железной дороги, идущей с юга на север и проходящей через $B$, считая по кратчайшему расстоянию на $a$ км. Под каким углом $\\alpha$ к железной дороге следует ппостроить подъезной  путь от завода, чтобы транспортировка грузов из $A$ в $B$ была наиболее экономичной, если стоимость провоза тонны груза на расстоянии $1$ км составляет: по подъезному пути $p$ рублей, по железной дороге $q$ рублей $(p>q)$ и город $B$ расположен на $b$ км севернее завода $A$."
   ]
  },
  {
   "cell_type": "markdown",
   "id": "74863599",
   "metadata": {},
   "source": [
    "**Решение**\n",
    "\n",
    "Угол $\\alpha$ от $0$ до $90$ градусов\n",
    "\n",
    "Длина по подъездному пути (км): $$l_{1} = \\frac{a}{\\sin \\alpha}$$\n",
    "\n",
    "Длина по железной дороге (км): $$l_{2} = b - a\\cdot \\mbox{ctg} \\alpha$$\n",
    "\n",
    "По условию длина по железной дороге удовлетворяет следующим условиям:\n",
    "\n",
    "$$0 \\leq l_{2} \\leq b$$\n",
    "\n",
    "$\\begin{cases}\n",
    "   a\\cdot \\mbox{ctg} \\alpha \\leq b \\\\\n",
    "   -a\\cdot \\mbox{ctg} \\alpha \\leq 0\n",
    " \\end{cases}\n",
    "$\n",
    "\n",
    "$\\begin{cases}\n",
    "    0 < \\alpha \\leq \\mbox{arcctg} \\frac{b}{a} \\\\\n",
    "    0 < \\alpha \\leq \\frac{\\pi}{2}\n",
    " \\end{cases}\n",
    "$\n",
    "\n",
    "Поскольку $\\mbox{arcctg} \\frac{b}{a} < \\frac{\\pi}{2}$, то условие сводится к этому:\n",
    "\n",
    "$$0 < \\alpha \\leq \\mbox{arcctg} \\frac{b}{a}$$\n",
    "\n",
    "Затраты на провоз по подъездному пути:\n",
    "\n",
    "$$ f_{1} = l_{1}\\cdot p = \\frac{a\\cdot p}{\\sin \\alpha}$$\n",
    "\n",
    "Затраты на провоз по жд:\n",
    "\n",
    "$$ f_{2} = l_{2}\\cdot q = q \\cdot (b - a\\cdot \\mbox{ctg} \\alpha)$$\n",
    "\n",
    "Функция затрат на транспортировку:\n",
    "\n",
    "$$f = f_{1} + f_{2} = \\frac{ap}{\\sin \\alpha} + q \\cdot (b - a\\cdot \\mbox{ctg} \\alpha) = \\frac{ap}{\\sin \\alpha} + qb - qa \\cdot \\mbox{ctg} \\alpha$$"
   ]
  },
  {
   "cell_type": "markdown",
   "id": "72eebca7",
   "metadata": {},
   "source": [
    "Теперь найдем производную:\n",
    "\n",
    "$$f'_{\\alpha} = -\\frac{ap\\cdot \\cos \\alpha}{\\sin^2 \\alpha} + \\frac{aq}{\\sin^2 \\alpha}$$\n",
    "\n",
    "Приравняем производную к $0$:\n",
    "\n",
    "$$f'_{\\alpha} = 0$$\n",
    "\n",
    "$$-\\frac{ap\\cdot \\cos \\alpha}{\\sin^2 \\alpha} + \\frac{aq}{\\sin^2 \\alpha} = 0$$\n",
    "\n",
    "Поскольку $0 < \\alpha \\leq \\mbox{arcctg} \\frac{b}{a}$, то $\\sin \\alpha \\neq 0$. Сократим $a$ и $\\sin^2 \\alpha$:\n",
    "\n",
    "$$-p\\cdot \\cos \\alpha + q = 0$$\n",
    "\n",
    "$$\\cos \\alpha = \\frac{q}{p} \\,\\,\\,\\,(p>q, \\frac{q}{p} < 1)$$\n",
    "\n",
    "$$\\alpha = \\mbox{arccos} \\frac{q}{p}$$\n",
    "\n",
    "Собрав все условия, получим ответ:\n",
    "\n",
    "$$\\begin{cases}\n",
    "   \\alpha = \\mbox{arccos} \\frac{q}{p} \\\\\n",
    "   0 < \\alpha \\leq \\mbox{arcctg} \\frac{b}{a}\n",
    " \\end{cases}\n",
    "$$\n"
   ]
  },
  {
   "cell_type": "markdown",
   "id": "877eda06",
   "metadata": {},
   "source": [
    "---"
   ]
  }
 ],
 "metadata": {
  "kernelspec": {
   "display_name": "Python 3 (ipykernel)",
   "language": "python",
   "name": "python3"
  },
  "language_info": {
   "codemirror_mode": {
    "name": "ipython",
    "version": 3
   },
   "file_extension": ".py",
   "mimetype": "text/x-python",
   "name": "python",
   "nbconvert_exporter": "python",
   "pygments_lexer": "ipython3",
   "version": "3.8.8"
  }
 },
 "nbformat": 4,
 "nbformat_minor": 5
}
