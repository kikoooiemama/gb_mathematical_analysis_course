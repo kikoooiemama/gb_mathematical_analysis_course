{
 "cells": [
  {
   "cell_type": "markdown",
   "id": "e3f511e8",
   "metadata": {},
   "source": [
    "## Практическое задание №9 по теме \"Интегралы\""
   ]
  },
  {
   "cell_type": "markdown",
   "id": "47a18512",
   "metadata": {},
   "source": [
    "__1.__ Вычислить неопределенный интеграл\n",
    "\n",
    "### $$\\int \\frac{2x+3}{(x-2)(x+5)}\\,dx$$"
   ]
  },
  {
   "cell_type": "markdown",
   "id": "4b063426",
   "metadata": {},
   "source": [
    "**Решение**"
   ]
  },
  {
   "cell_type": "markdown",
   "id": "ed6af6c7",
   "metadata": {},
   "source": [
    "Воспользуемся методом неопределенных коэффициентов:\n",
    "\n",
    "$$\\frac{2x+3}{(x-2)(x+5)} = \\frac{A}{x-2} + \\frac{B}{x+5}$$\n",
    "\n",
    "Найдем $A$ и $B$.\n",
    "\n",
    "$$2x+3 = A(x+5) + B(x-2) = Ax + 5A + Bx - 2B$$\n",
    "\n",
    "$$2x+3 = (A+B)x + (5A-2B)$$\n",
    "\n",
    "$$\n",
    "\\begin{cases}\n",
    "    2 = A + B \\\\\n",
    "    3 = 5A - 2B\n",
    "\\end{cases}\n",
    "\\Rightarrow\n",
    "\\begin{cases}\n",
    "    B = 2 - A \\\\\n",
    "    7A = 7\n",
    "\\end{cases}\n",
    "\\Rightarrow\n",
    "\\begin{cases}\n",
    "    B = 1 \\\\\n",
    "    A = 1\n",
    "\\end{cases}\n",
    "$$\n",
    "\n",
    "Вычислим неопределенный интеграл:\n",
    "\n",
    "$$\\int \\frac{2x+3}{(x-2)(x+5)}\\,dx = \\int\\frac{1}{x-2} \\,dx + \\int\\frac{1}{x+5} \\,dx =\\ln|x-2|+\\ln|x+5|+C$$"
   ]
  },
  {
   "cell_type": "code",
   "execution_count": 1,
   "id": "7219e843",
   "metadata": {},
   "outputs": [],
   "source": [
    "from sympy import *\n",
    "init_printing()\n",
    "import warnings\n",
    "warnings.filterwarnings(\"ignore\")"
   ]
  },
  {
   "cell_type": "code",
   "execution_count": 2,
   "id": "46dc77ec",
   "metadata": {},
   "outputs": [
    {
     "data": {
      "image/png": "[encoded data removed]",
      "text/latex": [
       "$\\displaystyle \\frac{2 x + 3}{\\left(x - 2\\right) \\left(x + 5\\right)}$"
      ],
      "text/plain": [
       "    2⋅x + 3    \n",
       "───────────────\n",
       "(x - 2)⋅(x + 5)"
      ]
     },
     "execution_count": 2,
     "metadata": {},
     "output_type": "execute_result"
    }
   ],
   "source": [
    "x=Symbol('x')\n",
    "f = (2*x+3) / (x-2) / (x+5)\n",
    "f"
   ]
  },
  {
   "cell_type": "code",
   "execution_count": 3,
   "id": "7dda1d66",
   "metadata": {},
   "outputs": [
    {
     "data": {
      "image/png": "[encoded data removed]",
      "text/latex": [
       "$\\displaystyle \\log{\\left(x^{2} + 3 x - 10 \\right)}$"
      ],
      "text/plain": [
       "   ⎛ 2           ⎞\n",
       "log⎝x  + 3⋅x - 10⎠"
      ]
     },
     "execution_count": 3,
     "metadata": {},
     "output_type": "execute_result"
    }
   ],
   "source": [
    "integrate(f, x)"
   ]
  },
  {
   "cell_type": "markdown",
   "id": "74feff2c",
   "metadata": {},
   "source": [
    "---"
   ]
  },
  {
   "cell_type": "markdown",
   "id": "4a85844c",
   "metadata": {},
   "source": [
    "__2.__ Вычислить неопределенный интеграл\n",
    "\n",
    "### $$\\int e^{2x}\\cos 3x\\,dx$$"
   ]
  },
  {
   "cell_type": "markdown",
   "id": "b16d683b",
   "metadata": {},
   "source": [
    "**Решение**"
   ]
  },
  {
   "cell_type": "markdown",
   "id": "2f1b49f1",
   "metadata": {},
   "source": [
    "Воспользуемся интегрированием по частям:\n",
    "\n",
    "$$\\int U\\cdot dV=U\\cdot V-\\int V\\cdot dU$$\n",
    "\n",
    "$$U=e^{2x}$$ \n",
    "$$dU=2e^{2x}\\,dx$$\n",
    "$$dV=\\cos3x\\,dx$$\n",
    "$$V=\\frac{\\sin3x}{3}$$"
   ]
  },
  {
   "cell_type": "markdown",
   "id": "f92f1aae",
   "metadata": {},
   "source": [
    "$$\\int e^{2x}\\cos 3x\\,dx = \\frac{e^{2x}}{3} \\sin3x - \\frac{2}{3}\\int e^{2x}\\sin3x\\,dx$$"
   ]
  },
  {
   "cell_type": "markdown",
   "id": "380bf15c",
   "metadata": {},
   "source": [
    "Проинтегрируем по частям выражение $\\int e^{2x}\\sin3x\\,dx$\n",
    "\n",
    "$$U=e^{2x}$$ \n",
    "$$dU=2e^{2x}\\,dx$$\n",
    "$$dV=\\sin3x\\,dx$$\n",
    "$$V=-\\frac{\\cos3x}{3}$$"
   ]
  },
  {
   "cell_type": "markdown",
   "id": "7b367502",
   "metadata": {},
   "source": [
    "$$\\int e^{2x}\\sin 3x\\,dx = -\\frac{e^{2x}}{3}\\cos3x+\\frac{2}{3}\\int e^{2x}\\cos3x\\,dx$$"
   ]
  },
  {
   "cell_type": "markdown",
   "id": "621160f5",
   "metadata": {},
   "source": [
    "Подставляем полученное выражение $\\int e^{2x}\\sin3x\\,dx$ в ранее найденное.\n",
    "\n",
    "$$\\int e^{2x}\\cos 3x\\,dx = \\frac{e^{2x}}{3} \\sin3x - \\frac{2}{3}\\Bigr(-\\frac{e^{2x}}{3}\\cos3x+\\frac{2}{3}\\int e^{2x}\\cos3x\\,dx \\Bigl) = $$\n",
    "\n",
    "$$= \\frac{e^{2x}}{3} \\sin3x + \\frac{2}{9}e^{2x}\\cos3x - \\frac{4}{9}\\int e^{2x}\\cos3x\\,dx$$"
   ]
  },
  {
   "cell_type": "markdown",
   "id": "69b20993",
   "metadata": {},
   "source": [
    "Перенесем $\\int e^{2x}\\cos3x\\,dx$ в левую часть.\n",
    "\n",
    "$$\\frac{13}{9} \\int e^{2x}\\cos 3x\\,dx = \\frac{e^{2x}}{3} \\sin3x + \\frac{2}{9}e^{2x}\\cos3x$$\n",
    "\n",
    "$$\\int e^{2x}\\cos 3x\\,dx = \\frac{3}{13} e^{2x} \\sin3x + \\frac{2}{13}e^{2x}\\cos3x$$"
   ]
  },
  {
   "cell_type": "code",
   "execution_count": 4,
   "id": "63b4ed0f",
   "metadata": {},
   "outputs": [
    {
     "data": {
      "image/png": "[encoded data removed]",
      "text/latex": [
       "$\\displaystyle e^{2 x} \\cos{\\left(3 x \\right)}$"
      ],
      "text/plain": [
       " 2⋅x         \n",
       "ℯ   ⋅cos(3⋅x)"
      ]
     },
     "execution_count": 4,
     "metadata": {},
     "output_type": "execute_result"
    }
   ],
   "source": [
    "x=Symbol('x')\n",
    "f = exp(2*x)*cos(3*x)\n",
    "f"
   ]
  },
  {
   "cell_type": "code",
   "execution_count": 5,
   "id": "305d7485",
   "metadata": {},
   "outputs": [
    {
     "data": {
      "image/png": "[encoded data removed]",
      "text/latex": [
       "$\\displaystyle \\frac{3 e^{2 x} \\sin{\\left(3 x \\right)}}{13} + \\frac{2 e^{2 x} \\cos{\\left(3 x \\right)}}{13}$"
      ],
      "text/plain": [
       "   2⋅x               2⋅x         \n",
       "3⋅ℯ   ⋅sin(3⋅x)   2⋅ℯ   ⋅cos(3⋅x)\n",
       "─────────────── + ───────────────\n",
       "       13                13      "
      ]
     },
     "execution_count": 5,
     "metadata": {},
     "output_type": "execute_result"
    }
   ],
   "source": [
    "integrate(f, x)"
   ]
  },
  {
   "cell_type": "markdown",
   "id": "9c1a0edb",
   "metadata": {},
   "source": [
    "---"
   ]
  },
  {
   "cell_type": "markdown",
   "id": "b0bde843",
   "metadata": {},
   "source": [
    "__3.__ Вычислить определенный интеграл\n",
    "\n",
    "### $$\\int\\limits_0^{\\ln2} xe^{-x}\\,dx$$"
   ]
  },
  {
   "cell_type": "markdown",
   "id": "74f5531d",
   "metadata": {},
   "source": [
    "**Решение**"
   ]
  },
  {
   "cell_type": "markdown",
   "id": "ea8305a3",
   "metadata": {},
   "source": [
    "Воспользуемся интегрированием по частям:\n",
    "\n",
    "$$\\int U\\cdot dV=U\\cdot V-\\int V\\cdot dU$$\n",
    "\n",
    "$$U=x$$ \n",
    "$$dU=dx$$\n",
    "$$dV=e^{-x}\\,dx$$\n",
    "$$V=-e^{-x}$$"
   ]
  },
  {
   "cell_type": "markdown",
   "id": "f0e8d0b1",
   "metadata": {},
   "source": [
    "$$\\int\\limits_0^{\\ln2} xe^{-x}\\,dx = \\Bigl(-xe^{-x}\\Bigr)\\bigg|_{0}^{\\ln2} + \\int\\limits_0^{\\ln2} e^{-x}\\,dx = -\\frac{1}{2}\\cdot\\ln2 - \\Bigl(e^{-x}\\Bigr)\\bigg|_{0}^{\\ln2} = -\\frac{\\ln2}{2} + \\Bigl(-\\frac{1}{2} + 1\\Bigr) = \\frac{1}{2} - \\frac{\\ln2}{2}$$"
   ]
  },
  {
   "cell_type": "code",
   "execution_count": 6,
   "id": "d88616b4",
   "metadata": {},
   "outputs": [
    {
     "data": {
      "image/png": "[encoded data removed]",
      "text/latex": [
       "$\\displaystyle x e^{- x}$"
      ],
      "text/plain": [
       "   -x\n",
       "x⋅ℯ  "
      ]
     },
     "execution_count": 6,
     "metadata": {},
     "output_type": "execute_result"
    }
   ],
   "source": [
    "x=Symbol('x')\n",
    "f = exp(-x)*x\n",
    "f"
   ]
  },
  {
   "cell_type": "code",
   "execution_count": 7,
   "id": "ebac9a94",
   "metadata": {},
   "outputs": [
    {
     "data": {
      "image/png": "[encoded data removed]",
      "text/latex": [
       "$\\displaystyle \\frac{1}{2} - \\frac{\\log{\\left(2 \\right)}}{2}$"
      ],
      "text/plain": [
       "1   log(2)\n",
       "─ - ──────\n",
       "2     2   "
      ]
     },
     "execution_count": 7,
     "metadata": {},
     "output_type": "execute_result"
    }
   ],
   "source": [
    "integrate(f,(x, 0, ln(2)))"
   ]
  },
  {
   "cell_type": "markdown",
   "id": "49a270ab",
   "metadata": {},
   "source": [
    "---"
   ]
  },
  {
   "cell_type": "markdown",
   "id": "d6e54e4e",
   "metadata": {},
   "source": [
    "__4.__ Вычислить несобственный интеграл\n",
    "\n",
    "### $$\\int\\limits_2^{+\\infty} \\frac{dx}{x^2+x-2}$$"
   ]
  },
  {
   "cell_type": "markdown",
   "id": "09f91e72",
   "metadata": {},
   "source": [
    "**Решение**"
   ]
  },
  {
   "cell_type": "markdown",
   "id": "f236e41b",
   "metadata": {},
   "source": [
    "$$\\int\\limits_2^{+\\infty} \\frac{dx}{x^2+x-2}=\\lim_{b\\to +\\infty}\\int\\limits_2^{b} \\frac{dx}{x^2+x-2}= \\lim_{b\\to +\\infty}\\int\\limits_2^{b} \\frac{dx}{(x-1)(x+2)}$$\n",
    "\n",
    "С помощью метода неопределенных коэффициентов получаем:\n",
    "$$\\frac{1}{(x-1)(x+2)}=\\frac{1}{3}\\Bigr(\\frac{1}{x-1}-\\frac{1}{x+2}\\Bigl)$$\n",
    "\n",
    "$$\\int\\limits_2^{+\\infty} \\frac{dx}{x^2+x-2} = \\frac{1}{3}\\lim_{b\\to +\\infty}\\int\\limits_2^{b} \\Bigr(\\frac{1}{x-1}-\\frac{1}{x+2}\\Bigl)\\,dx = \\frac{1}{3}\\lim_{b\\to +\\infty}\\Bigr(\\ln\\frac{|x-1|}{|x+2|}\\Bigl)\\bigg|_2^{b}=$$\n",
    "\n",
    "$$= \\frac{1}{3}\\lim_{b\\to +\\infty} \\Bigr(\\ln\\frac{|b-1|}{|b+2|}\\Bigl) - \\frac{1}{3} \\cdot \\ln\\frac{1}{4}$$\n",
    "\n",
    "Поскольку\n",
    "\n",
    "$$\\frac{1}{3}\\lim_{b\\to +\\infty} \\Bigr(\\ln\\frac{|b-1|}{|b+2|}\\Bigl) = 0 $$\n",
    "\n",
    "то\n",
    "\n",
    "$$\\int\\limits_2^{+\\infty} \\frac{dx}{x^2+x-2} = - \\frac{1}{3} \\cdot \\ln\\frac{1}{4} = \\frac{\\ln4}{3}$$"
   ]
  },
  {
   "cell_type": "code",
   "execution_count": 8,
   "id": "6d6a7a51",
   "metadata": {},
   "outputs": [
    {
     "data": {
      "image/png": "[encoded data removed]",
      "text/latex": [
       "$\\displaystyle \\frac{1}{x^{2} + x - 2}$"
      ],
      "text/plain": [
       "    1     \n",
       "──────────\n",
       " 2        \n",
       "x  + x - 2"
      ]
     },
     "execution_count": 8,
     "metadata": {},
     "output_type": "execute_result"
    }
   ],
   "source": [
    "x=Symbol('x')\n",
    "f = 1 / (x**2 + x - 2)\n",
    "f"
   ]
  },
  {
   "cell_type": "code",
   "execution_count": 9,
   "id": "85d8b5fa",
   "metadata": {},
   "outputs": [
    {
     "data": {
      "image/png": "[encoded data removed]",
      "text/latex": [
       "$\\displaystyle \\frac{\\log{\\left(4 \\right)}}{3}$"
      ],
      "text/plain": [
       "log(4)\n",
       "──────\n",
       "  3   "
      ]
     },
     "execution_count": 9,
     "metadata": {},
     "output_type": "execute_result"
    }
   ],
   "source": [
    "integrate(f, (x, 2, +oo))"
   ]
  },
  {
   "cell_type": "markdown",
   "id": "bbdaf761",
   "metadata": {},
   "source": [
    "---"
   ]
  },
  {
   "cell_type": "markdown",
   "id": "36e45cec",
   "metadata": {},
   "source": [
    "__5*.__ Вычислить несобственный интеграл\n",
    "\n",
    "### $$\\int\\limits_0^{1} \\ln x\\,dx$$"
   ]
  },
  {
   "cell_type": "markdown",
   "id": "3263eb40",
   "metadata": {},
   "source": [
    "**Решение**"
   ]
  },
  {
   "cell_type": "markdown",
   "id": "3543be86",
   "metadata": {},
   "source": [
    "$$\\int\\limits_0^{1} \\ln x\\,dx=\\lim_{a\\to 0}\\int\\limits_a^{1} \\ln x\\,dx$$\n",
    "\n",
    "Воспользуемся интегрированием по частям:\n",
    "\n",
    "$$\\int U\\cdot dV=U\\cdot V-\\int V\\cdot dU$$\n",
    "\n",
    "$$U=\\ln x$$ \n",
    "$$dU=\\frac{dx}{x}$$\n",
    "$$dV=dx$$\n",
    "$$V=x$$"
   ]
  },
  {
   "cell_type": "markdown",
   "id": "c115bdc6",
   "metadata": {},
   "source": [
    "$$\\int\\limits_0^{1} \\ln x\\,dx=\\lim_{a\\to 0}\\int\\limits_a^{1} \\ln x\\,dx = \\lim_{a\\to 0} \\Bigl((x\\ln x)\\bigg|_{a}^{1} - \\int\\limits_a^{1} dx\\Bigr) = $$\n",
    "\n",
    "$$= - \\lim_{a\\to 0} a\\ln a - \\lim_{a\\to 0} \\int\\limits_a^{1}\\,dx = - 1 - \\lim_{a\\to 0} a\\ln a $$"
   ]
  },
  {
   "cell_type": "markdown",
   "id": "4bb057fa",
   "metadata": {},
   "source": [
    "Посчитаем отдельно правое слагаемое (предел), используя правило Лопиталя.\n",
    "\n",
    "$$\\lim_{a\\to 0} a\\ln a = \\lim_{a\\to 0} \\frac{\\ln a}{\\frac{1}{a}} = \\lim_{a\\to 0} \\frac{(\\ln a)'}{(\\frac{1}{a})'} = $$\n",
    "\n",
    "$$= \\lim_{a\\to 0} \\frac{\\frac{1}{a}}{-\\frac{1}{a^2}} = \\lim_{a\\to 0} (-a) = 0$$"
   ]
  },
  {
   "cell_type": "markdown",
   "id": "b3f33015",
   "metadata": {},
   "source": [
    "Подставляем в интеграл\n",
    "\n",
    "$$\\int\\limits_0^{1} \\ln x\\,dx= - 1 - \\lim_{a\\to 0} a\\ln a  = -1 - 0 = -1$$ "
   ]
  },
  {
   "cell_type": "code",
   "execution_count": 10,
   "id": "8ff7937e",
   "metadata": {},
   "outputs": [
    {
     "data": {
      "image/png": "[encoded data removed]",
      "text/latex": [
       "$\\displaystyle \\log{\\left(x \\right)}$"
      ],
      "text/plain": [
       "log(x)"
      ]
     },
     "execution_count": 10,
     "metadata": {},
     "output_type": "execute_result"
    }
   ],
   "source": [
    "x=Symbol('x')\n",
    "f = ln(x)\n",
    "f"
   ]
  },
  {
   "cell_type": "code",
   "execution_count": 11,
   "id": "4a27cdf6",
   "metadata": {},
   "outputs": [
    {
     "data": {
      "image/png": "[encoded data removed]",
      "text/latex": [
       "$\\displaystyle -1$"
      ],
      "text/plain": [
       "-1"
      ]
     },
     "execution_count": 11,
     "metadata": {},
     "output_type": "execute_result"
    }
   ],
   "source": [
    "integrate(f, (x, 0, 1))"
   ]
  },
  {
   "cell_type": "markdown",
   "id": "96310733",
   "metadata": {},
   "source": [
    "---"
   ]
  }
 ],
 "metadata": {
  "kernelspec": {
   "display_name": "Python 3 (ipykernel)",
   "language": "python",
   "name": "python3"
  },
  "language_info": {
   "codemirror_mode": {
    "name": "ipython",
    "version": 3
   },
   "file_extension": ".py",
   "mimetype": "text/x-python",
   "name": "python",
   "nbconvert_exporter": "python",
   "pygments_lexer": "ipython3",
   "version": "3.8.8"
  }
 },
 "nbformat": 4,
 "nbformat_minor": 5
}
